{
 "cells": [
  {
   "cell_type": "code",
   "execution_count": 1,
   "id": "documentary-elements",
   "metadata": {},
   "outputs": [],
   "source": [
    "import numpy as np\n",
    "import pandas as pd\n",
    "\n",
    "import tensorflow as tf\n",
    "from tensorflow import reduce_sum\n",
    "from keras.models import Sequential, Model, load_model\n",
    "from keras.layers import LSTM, Dense, Dropout, Input, Concatenate, Subtract\n",
    "\n",
    "from sklearn.preprocessing import LabelEncoder"
   ]
  },
  {
   "cell_type": "code",
   "execution_count": 2,
   "id": "second-presence",
   "metadata": {},
   "outputs": [
    {
     "data": {
      "text/html": [
       "<div>\n",
       "<style scoped>\n",
       "    .dataframe tbody tr th:only-of-type {\n",
       "        vertical-align: middle;\n",
       "    }\n",
       "\n",
       "    .dataframe tbody tr th {\n",
       "        vertical-align: top;\n",
       "    }\n",
       "\n",
       "    .dataframe thead th {\n",
       "        text-align: right;\n",
       "    }\n",
       "</style>\n",
       "<table border=\"1\" class=\"dataframe\">\n",
       "  <thead>\n",
       "    <tr style=\"text-align: right;\">\n",
       "      <th></th>\n",
       "      <th>SENTENCE A</th>\n",
       "      <th>SENTENCE B</th>\n",
       "      <th>SENTENCE TYPE</th>\n",
       "      <th>IOOU</th>\n",
       "      <th>NEGATION</th>\n",
       "      <th>ANTONYM</th>\n",
       "      <th>OVERLAP COEFFICIENT</th>\n",
       "    </tr>\n",
       "  </thead>\n",
       "  <tbody>\n",
       "    <tr>\n",
       "      <th>0</th>\n",
       "      <td>the dough used for pancakes is thin</td>\n",
       "      <td>the dough used for pancakes is thick</td>\n",
       "      <td>contradiction</td>\n",
       "      <td>0.750000</td>\n",
       "      <td>False</td>\n",
       "      <td>1</td>\n",
       "      <td>0.171429</td>\n",
       "    </tr>\n",
       "    <tr>\n",
       "      <th>1</th>\n",
       "      <td>she showed him my ugly picture</td>\n",
       "      <td>she showed him my handsome picture</td>\n",
       "      <td>contradiction</td>\n",
       "      <td>0.714286</td>\n",
       "      <td>False</td>\n",
       "      <td>1</td>\n",
       "      <td>0.166667</td>\n",
       "    </tr>\n",
       "    <tr>\n",
       "      <th>2</th>\n",
       "      <td>i only need the healthy half</td>\n",
       "      <td>i only need the bad half</td>\n",
       "      <td>contradiction</td>\n",
       "      <td>0.714286</td>\n",
       "      <td>False</td>\n",
       "      <td>1</td>\n",
       "      <td>0.208333</td>\n",
       "    </tr>\n",
       "    <tr>\n",
       "      <th>3</th>\n",
       "      <td>i cant confidently tell you yet</td>\n",
       "      <td>i cant diffidently tell you yet</td>\n",
       "      <td>contradiction</td>\n",
       "      <td>0.714286</td>\n",
       "      <td>False</td>\n",
       "      <td>1</td>\n",
       "      <td>0.161290</td>\n",
       "    </tr>\n",
       "    <tr>\n",
       "      <th>4</th>\n",
       "      <td>i need to be sure</td>\n",
       "      <td>i do not need to be sure</td>\n",
       "      <td>contradiction</td>\n",
       "      <td>0.714286</td>\n",
       "      <td>True</td>\n",
       "      <td>0</td>\n",
       "      <td>0.294118</td>\n",
       "    </tr>\n",
       "  </tbody>\n",
       "</table>\n",
       "</div>"
      ],
      "text/plain": [
       "                            SENTENCE A                            SENTENCE B  \\\n",
       "0  the dough used for pancakes is thin  the dough used for pancakes is thick   \n",
       "1       she showed him my ugly picture    she showed him my handsome picture   \n",
       "2         i only need the healthy half              i only need the bad half   \n",
       "3      i cant confidently tell you yet       i cant diffidently tell you yet   \n",
       "4                    i need to be sure              i do not need to be sure   \n",
       "\n",
       "   SENTENCE TYPE      IOOU  NEGATION  ANTONYM  OVERLAP COEFFICIENT  \n",
       "0  contradiction  0.750000     False        1             0.171429  \n",
       "1  contradiction  0.714286     False        1             0.166667  \n",
       "2  contradiction  0.714286     False        1             0.208333  \n",
       "3  contradiction  0.714286     False        1             0.161290  \n",
       "4  contradiction  0.714286      True        0             0.294118  "
      ]
     },
     "execution_count": 2,
     "metadata": {},
     "output_type": "execute_result"
    }
   ],
   "source": [
    "train = pd.read_csv('data/contradiction dataset/training.txt', delimiter = '\\t')\n",
    "train = train.drop('S.NO.', axis = 1)\n",
    "\n",
    "test = pd.read_csv('data/contradiction dataset/testing.txt', delimiter = '\\t')\n",
    "test = test.drop('S.NO.', axis = 1)\n",
    "\n",
    "train.head()"
   ]
  },
  {
   "cell_type": "code",
   "execution_count": 3,
   "id": "canadian-arizona",
   "metadata": {},
   "outputs": [
    {
     "data": {
      "text/html": [
       "<div>\n",
       "<style scoped>\n",
       "    .dataframe tbody tr th:only-of-type {\n",
       "        vertical-align: middle;\n",
       "    }\n",
       "\n",
       "    .dataframe tbody tr th {\n",
       "        vertical-align: top;\n",
       "    }\n",
       "\n",
       "    .dataframe thead th {\n",
       "        text-align: right;\n",
       "    }\n",
       "</style>\n",
       "<table border=\"1\" class=\"dataframe\">\n",
       "  <thead>\n",
       "    <tr style=\"text-align: right;\">\n",
       "      <th></th>\n",
       "      <th>SENTENCE A</th>\n",
       "      <th>SENTENCE B</th>\n",
       "      <th>SENTENCE TYPE</th>\n",
       "      <th>IOOU</th>\n",
       "      <th>NEGATION</th>\n",
       "      <th>ANTONYM</th>\n",
       "      <th>OVERLAP COEFFICIENT</th>\n",
       "    </tr>\n",
       "  </thead>\n",
       "  <tbody>\n",
       "    <tr>\n",
       "      <th>100</th>\n",
       "      <td>a group of kids is playing in a yard and an ol...</td>\n",
       "      <td>a group of boys in a yard is playing and a man...</td>\n",
       "      <td>neutral</td>\n",
       "      <td>0.750000</td>\n",
       "      <td>False</td>\n",
       "      <td>0</td>\n",
       "      <td>0.157895</td>\n",
       "    </tr>\n",
       "    <tr>\n",
       "      <th>101</th>\n",
       "      <td>a group of children is playing in the house an...</td>\n",
       "      <td>a group of kids is playing in a yard and an ol...</td>\n",
       "      <td>neutral</td>\n",
       "      <td>0.578947</td>\n",
       "      <td>True</td>\n",
       "      <td>0</td>\n",
       "      <td>0.135802</td>\n",
       "    </tr>\n",
       "    <tr>\n",
       "      <th>102</th>\n",
       "      <td>the kids are playing outdoors near a man with ...</td>\n",
       "      <td>a group of kids is playing in a yard and an ol...</td>\n",
       "      <td>neutral</td>\n",
       "      <td>0.250000</td>\n",
       "      <td>False</td>\n",
       "      <td>0</td>\n",
       "      <td>0.094340</td>\n",
       "    </tr>\n",
       "    <tr>\n",
       "      <th>103</th>\n",
       "      <td>the young boys are playing outdoors and the ma...</td>\n",
       "      <td>a group of kids is playing in a yard and an ol...</td>\n",
       "      <td>neutral</td>\n",
       "      <td>0.238095</td>\n",
       "      <td>False</td>\n",
       "      <td>1</td>\n",
       "      <td>0.076923</td>\n",
       "    </tr>\n",
       "    <tr>\n",
       "      <th>104</th>\n",
       "      <td>two dogs are fighting</td>\n",
       "      <td>two dogs are wrestling and hugging</td>\n",
       "      <td>neutral</td>\n",
       "      <td>0.428571</td>\n",
       "      <td>False</td>\n",
       "      <td>0</td>\n",
       "      <td>0.142857</td>\n",
       "    </tr>\n",
       "    <tr>\n",
       "      <th>...</th>\n",
       "      <td>...</td>\n",
       "      <td>...</td>\n",
       "      <td>...</td>\n",
       "      <td>...</td>\n",
       "      <td>...</td>\n",
       "      <td>...</td>\n",
       "      <td>...</td>\n",
       "    </tr>\n",
       "    <tr>\n",
       "      <th>3317</th>\n",
       "      <td>a door is being opened by a man</td>\n",
       "      <td>a bald man in a band is playing guitar in the ...</td>\n",
       "      <td>neutral</td>\n",
       "      <td>0.214286</td>\n",
       "      <td>False</td>\n",
       "      <td>0</td>\n",
       "      <td>0.096774</td>\n",
       "    </tr>\n",
       "    <tr>\n",
       "      <th>3318</th>\n",
       "      <td>someone is boiling okra in a pot</td>\n",
       "      <td>the man is not playing the drums</td>\n",
       "      <td>neutral</td>\n",
       "      <td>0.083333</td>\n",
       "      <td>True</td>\n",
       "      <td>0</td>\n",
       "      <td>0.031250</td>\n",
       "    </tr>\n",
       "    <tr>\n",
       "      <th>3319</th>\n",
       "      <td>the man is singing heartily and playing the gu...</td>\n",
       "      <td>a bicyclist is holding a bike over his head in...</td>\n",
       "      <td>neutral</td>\n",
       "      <td>0.052632</td>\n",
       "      <td>False</td>\n",
       "      <td>0</td>\n",
       "      <td>0.020000</td>\n",
       "    </tr>\n",
       "    <tr>\n",
       "      <th>3320</th>\n",
       "      <td>a man in blue has a yellow ball in the mitt</td>\n",
       "      <td>a man is jumping rope outside</td>\n",
       "      <td>neutral</td>\n",
       "      <td>0.153846</td>\n",
       "      <td>False</td>\n",
       "      <td>0</td>\n",
       "      <td>0.068966</td>\n",
       "    </tr>\n",
       "    <tr>\n",
       "      <th>3321</th>\n",
       "      <td>three dogs are resting on a sidewalk</td>\n",
       "      <td>the woman with a knife is slicing a pepper</td>\n",
       "      <td>neutral</td>\n",
       "      <td>0.071429</td>\n",
       "      <td>False</td>\n",
       "      <td>0</td>\n",
       "      <td>0.027778</td>\n",
       "    </tr>\n",
       "  </tbody>\n",
       "</table>\n",
       "<p>2537 rows × 7 columns</p>\n",
       "</div>"
      ],
      "text/plain": [
       "                                             SENTENCE A  \\\n",
       "100   a group of kids is playing in a yard and an ol...   \n",
       "101   a group of children is playing in the house an...   \n",
       "102   the kids are playing outdoors near a man with ...   \n",
       "103   the young boys are playing outdoors and the ma...   \n",
       "104                               two dogs are fighting   \n",
       "...                                                 ...   \n",
       "3317                    a door is being opened by a man   \n",
       "3318                   someone is boiling okra in a pot   \n",
       "3319  the man is singing heartily and playing the gu...   \n",
       "3320        a man in blue has a yellow ball in the mitt   \n",
       "3321               three dogs are resting on a sidewalk   \n",
       "\n",
       "                                             SENTENCE B SENTENCE TYPE  \\\n",
       "100   a group of boys in a yard is playing and a man...       neutral   \n",
       "101   a group of kids is playing in a yard and an ol...       neutral   \n",
       "102   a group of kids is playing in a yard and an ol...       neutral   \n",
       "103   a group of kids is playing in a yard and an ol...       neutral   \n",
       "104                  two dogs are wrestling and hugging       neutral   \n",
       "...                                                 ...           ...   \n",
       "3317  a bald man in a band is playing guitar in the ...       neutral   \n",
       "3318                   the man is not playing the drums       neutral   \n",
       "3319  a bicyclist is holding a bike over his head in...       neutral   \n",
       "3320                      a man is jumping rope outside       neutral   \n",
       "3321         the woman with a knife is slicing a pepper       neutral   \n",
       "\n",
       "          IOOU  NEGATION  ANTONYM  OVERLAP COEFFICIENT  \n",
       "100   0.750000     False        0             0.157895  \n",
       "101   0.578947      True        0             0.135802  \n",
       "102   0.250000     False        0             0.094340  \n",
       "103   0.238095     False        1             0.076923  \n",
       "104   0.428571     False        0             0.142857  \n",
       "...        ...       ...      ...                  ...  \n",
       "3317  0.214286     False        0             0.096774  \n",
       "3318  0.083333      True        0             0.031250  \n",
       "3319  0.052632     False        0             0.020000  \n",
       "3320  0.153846     False        0             0.068966  \n",
       "3321  0.071429     False        0             0.027778  \n",
       "\n",
       "[2537 rows x 7 columns]"
      ]
     },
     "execution_count": 3,
     "metadata": {},
     "output_type": "execute_result"
    }
   ],
   "source": [
    "train[train['SENTENCE TYPE'] == 'neutral']"
   ]
  },
  {
   "cell_type": "code",
   "execution_count": 4,
   "id": "commercial-dimension",
   "metadata": {},
   "outputs": [
    {
     "name": "stdout",
     "output_type": "stream",
     "text": [
      "Total number of samples in training dataset:  3822\n",
      "Total number of samples in test dataset:  3513\n",
      "Output prediction categories:  {'contradiction', 'neutral'}\n"
     ]
    }
   ],
   "source": [
    "print(\"Total number of samples in training dataset: \", len(train))\n",
    "print(\"Total number of samples in test dataset: \", len(test))\n",
    "\n",
    "print(\"Output prediction categories: \", set(train['SENTENCE TYPE']))"
   ]
  },
  {
   "cell_type": "code",
   "execution_count": 5,
   "id": "heard-argument",
   "metadata": {},
   "outputs": [],
   "source": [
    "def read_glove_vecs(glove_file):\n",
    "    with open(glove_file, 'r', encoding=\"utf8\") as f:\n",
    "        words = set()\n",
    "        word_to_vec_map = {}\n",
    "        for line in f:\n",
    "            line = line.strip().split()\n",
    "            curr_word = line[0]\n",
    "            words.add(curr_word)\n",
    "            word_to_vec_map[curr_word] = np.array(line[1:], dtype=np.float64)\n",
    "        \n",
    "        i = 1\n",
    "        words_to_index = {}\n",
    "        index_to_words = {}\n",
    "        for w in sorted(words):\n",
    "            words_to_index[w] = i\n",
    "            index_to_words[i] = w\n",
    "            i = i + 1\n",
    "    return words_to_index, index_to_words, word_to_vec_map"
   ]
  },
  {
   "cell_type": "code",
   "execution_count": 6,
   "id": "stunning-tucson",
   "metadata": {},
   "outputs": [],
   "source": [
    "def get_max_length(X):\n",
    "    max_words = 0\n",
    "    for sentence in X:\n",
    "        sent_indices = [word.lower() for word in sentence.split()]\n",
    "        if len(sent_indices)> max_words:\n",
    "            max_words = len(sent_indices)\n",
    "            \n",
    "    return max_words"
   ]
  },
  {
   "cell_type": "code",
   "execution_count": 7,
   "id": "smooth-evaluation",
   "metadata": {},
   "outputs": [
    {
     "name": "stdout",
     "output_type": "stream",
     "text": [
      "Maximum length of sentence in training dataset is : 32\n",
      "Maximum length of sentence in training dataset is : 28\n"
     ]
    }
   ],
   "source": [
    "Xtraina = train['SENTENCE A'].values\n",
    "Xtrainb = train['SENTENCE B'].values\n",
    "\n",
    "Xtesta = test['SENTENCE A'].values\n",
    "Xtestb = test['SENTENCE B'].values\n",
    "\n",
    "print(\"Maximum length of sentence in training dataset is :\", max(get_max_length(Xtraina), get_max_length(Xtrainb)))\n",
    "print(\"Maximum length of sentence in training dataset is :\", max(get_max_length(Xtesta), get_max_length(Xtestb)))"
   ]
  },
  {
   "cell_type": "code",
   "execution_count": 8,
   "id": "european-karma",
   "metadata": {},
   "outputs": [],
   "source": [
    "word_to_index, index_to_word, word_to_vec = read_glove_vecs('data/glove.6B.200d.txt')# dictionaries mapping corresponding elements"
   ]
  },
  {
   "cell_type": "code",
   "execution_count": 9,
   "id": "coordinate-garbage",
   "metadata": {},
   "outputs": [],
   "source": [
    "SENT_SIZE = 40\n",
    "\n",
    "def convert_sent_to_emb(X, word_to_vec):\n",
    "    data = np.zeros((len(X), SENT_SIZE, len(word_to_vec['word'])))\n",
    "    \n",
    "    for i, sent in enumerate(X):\n",
    "        for j, word in enumerate(sent.split()):\n",
    "            try:\n",
    "                data[i, j, :] = word_to_vec[word]\n",
    "            except:\n",
    "                pass\n",
    "            \n",
    "    return data"
   ]
  },
  {
   "cell_type": "code",
   "execution_count": 10,
   "id": "latin-astronomy",
   "metadata": {},
   "outputs": [],
   "source": [
    "XtrainA_vec = convert_sent_to_emb(Xtraina, word_to_vec)\n",
    "XtrainB_vec = convert_sent_to_emb(Xtrainb, word_to_vec)\n",
    "XtestA_vec = convert_sent_to_emb(Xtesta, word_to_vec)\n",
    "XtestB_vec = convert_sent_to_emb(Xtestb, word_to_vec)\n",
    "\n",
    "trainFeatures = np.array(train[['IOOU', 'NEGATION', 'ANTONYM']].values, dtype = float)\n",
    "testFeatures = np.array(test[['IOOU', 'NEGATION', 'ANTONYM']].values, dtype = float)\n",
    "\n",
    "Ytrain = train['SENTENCE TYPE'].values\n",
    "Ytest = test['SENTENCE TYPE'].values\n",
    "\n",
    "Ytrain = np.array(Ytrain == 'neutral', dtype = int).reshape(len(Ytrain), 1)\n",
    "Ytest = np.array(Ytest == 'neutral', dtype = int).reshape(len(Ytest), 1)"
   ]
  },
  {
   "cell_type": "code",
   "execution_count": 11,
   "id": "shared-operations",
   "metadata": {},
   "outputs": [],
   "source": [
    "inp11 = Input(shape = (SENT_SIZE, len(word_to_vec['word'])))\n",
    "inp12 = Input(shape = (SENT_SIZE, len(word_to_vec['word'])))\n",
    "inp2 = Input(shape = (3, ))\n",
    "\n",
    "X11 = LSTM(128)(inp11)\n",
    "X12 = LSTM(128)(inp12)\n",
    "\n",
    "subtracted = Subtract()([X11, X12])\n",
    "X1 = Dense(256)(subtracted)\n",
    "\n",
    "X = Concatenate(axis = 1)([X1, inp2])\n",
    "\n",
    "X = Dense(64, activation = 'relu')(X)\n",
    "out = Dense(1, activation = 'sigmoid')(X)\n",
    "\n",
    "model = Model(inputs = [inp11, inp12, inp2], outputs = out)"
   ]
  },
  {
   "cell_type": "code",
   "execution_count": 12,
   "id": "acoustic-naples",
   "metadata": {},
   "outputs": [
    {
     "name": "stdout",
     "output_type": "stream",
     "text": [
      "Model: \"model\"\n",
      "__________________________________________________________________________________________________\n",
      " Layer (type)                   Output Shape         Param #     Connected to                     \n",
      "==================================================================================================\n",
      " input_1 (InputLayer)           [(None, 40, 200)]    0           []                               \n",
      "                                                                                                  \n",
      " input_2 (InputLayer)           [(None, 40, 200)]    0           []                               \n",
      "                                                                                                  \n",
      " lstm (LSTM)                    (None, 128)          168448      ['input_1[0][0]']                \n",
      "                                                                                                  \n",
      " lstm_1 (LSTM)                  (None, 128)          168448      ['input_2[0][0]']                \n",
      "                                                                                                  \n",
      " subtract (Subtract)            (None, 128)          0           ['lstm[0][0]',                   \n",
      "                                                                  'lstm_1[0][0]']                 \n",
      "                                                                                                  \n",
      " dense (Dense)                  (None, 256)          33024       ['subtract[0][0]']               \n",
      "                                                                                                  \n",
      " input_3 (InputLayer)           [(None, 3)]          0           []                               \n",
      "                                                                                                  \n",
      " concatenate (Concatenate)      (None, 259)          0           ['dense[0][0]',                  \n",
      "                                                                  'input_3[0][0]']                \n",
      "                                                                                                  \n",
      " dense_1 (Dense)                (None, 64)           16640       ['concatenate[0][0]']            \n",
      "                                                                                                  \n",
      " dense_2 (Dense)                (None, 1)            65          ['dense_1[0][0]']                \n",
      "                                                                                                  \n",
      "==================================================================================================\n",
      "Total params: 386,625\n",
      "Trainable params: 386,625\n",
      "Non-trainable params: 0\n",
      "__________________________________________________________________________________________________\n"
     ]
    }
   ],
   "source": [
    "model.summary()"
   ]
  },
  {
   "cell_type": "code",
   "execution_count": 13,
   "id": "incoming-explorer",
   "metadata": {},
   "outputs": [],
   "source": [
    "model.compile(optimizer = 'adam', loss = 'binary_crossentropy', metrics = ['accuracy'])"
   ]
  },
  {
   "cell_type": "code",
   "execution_count": 14,
   "id": "entitled-pocket",
   "metadata": {},
   "outputs": [
    {
     "name": "stdout",
     "output_type": "stream",
     "text": [
      "Epoch 1/5\n",
      "120/120 [==============================] - 36s 196ms/step - loss: 0.5120 - accuracy: 0.7457 - val_loss: 0.3965 - val_accuracy: 0.8474\n",
      "Epoch 2/5\n",
      "120/120 [==============================] - 16s 135ms/step - loss: 0.3692 - accuracy: 0.8590 - val_loss: 0.2898 - val_accuracy: 0.8773\n",
      "Epoch 3/5\n",
      "120/120 [==============================] - 14s 117ms/step - loss: 0.3138 - accuracy: 0.8770 - val_loss: 0.2408 - val_accuracy: 0.9052\n",
      "Epoch 4/5\n",
      "120/120 [==============================] - 14s 115ms/step - loss: 0.2750 - accuracy: 0.8964 - val_loss: 0.2162 - val_accuracy: 0.9174\n",
      "Epoch 5/5\n",
      "120/120 [==============================] - 14s 116ms/step - loss: 0.2564 - accuracy: 0.9042 - val_loss: 0.2073 - val_accuracy: 0.9266\n"
     ]
    },
    {
     "data": {
      "text/plain": [
       "<keras.callbacks.History at 0x21206b4fac0>"
      ]
     },
     "execution_count": 14,
     "metadata": {},
     "output_type": "execute_result"
    }
   ],
   "source": [
    "model.fit(x = [XtrainA_vec, XtrainB_vec, trainFeatures], y = Ytrain, validation_data=([XtestA_vec, XtestB_vec, testFeatures], Ytest), epochs = 5, batch_size = 32)"
   ]
  },
  {
   "cell_type": "code",
   "execution_count": 15,
   "id": "champion-capability",
   "metadata": {},
   "outputs": [
    {
     "name": "stdout",
     "output_type": "stream",
     "text": [
      "2678 577\n"
     ]
    }
   ],
   "source": [
    "Ypred = model.predict([XtestA_vec, XtestB_vec, testFeatures])\n",
    "Ypred = np.array(Ypred > 0.5, dtype = int)\n",
    "\n",
    "n = 0\n",
    "c = 0\n",
    "for i in range(len(Ytest)):\n",
    "    if(Ytest[i] == Ypred[i] and Ytest[i] == 1):\n",
    "        n = n + 1\n",
    "    if(Ytest[i] == Ypred[i] and Ytest[i] == 0):\n",
    "        c = c + 1\n",
    "    \n",
    "print(n, c)"
   ]
  },
  {
   "cell_type": "code",
   "execution_count": 26,
   "id": "expanded-switch",
   "metadata": {},
   "outputs": [
    {
     "name": "stdout",
     "output_type": "stream",
     "text": [
      "2793\n"
     ]
    },
    {
     "data": {
      "text/plain": [
       "0"
      ]
     },
     "execution_count": 26,
     "metadata": {},
     "output_type": "execute_result"
    }
   ],
   "source": [
    "print(Ytest[Ytest == 1].sum())\n",
    "Ytest[Ytest == 0].sum()"
   ]
  },
  {
   "cell_type": "code",
   "execution_count": 17,
   "id": "traditional-seven",
   "metadata": {},
   "outputs": [
    {
     "name": "stdout",
     "output_type": "stream",
     "text": [
      "2793 720\n"
     ]
    }
   ],
   "source": [
    "n = 0\n",
    "c = 0\n",
    "for i, j in zip(Ytest, Ypred):\n",
    "    if(i[0] == 1):\n",
    "        n = n+1\n",
    "    if(i[0] == 0):\n",
    "        c = c+1\n",
    "        \n",
    "print(n, c)"
   ]
  },
  {
   "cell_type": "code",
   "execution_count": 18,
   "id": "palestinian-piano",
   "metadata": {},
   "outputs": [
    {
     "name": "stdout",
     "output_type": "stream",
     "text": [
      "115 143\n"
     ]
    }
   ],
   "source": [
    "n = 0\n",
    "c = 0\n",
    "for i, j in zip(Ytest, Ypred):\n",
    "    if(i[0] == 1 and j[0] == 0):\n",
    "        n = n+1\n",
    "    if(i[0] == 0 and j[0] == 1):\n",
    "        c = c+1\n",
    "        \n",
    "print(n, c)"
   ]
  },
  {
   "cell_type": "code",
   "execution_count": 19,
   "id": "sacred-prisoner",
   "metadata": {},
   "outputs": [],
   "source": [
    "def jaccard_similarity(list1, list2):\n",
    "    intersection = len(list(set(list1).intersection(list2)))\n",
    "    union = (len(set(list1)) + len(set(list2))) - intersection\n",
    "    return float(intersection) / union\n",
    "\n",
    "def sent_to_list(sent1, sent2):\n",
    "    l1 = sent1.lower().split()\n",
    "    l2 = sent2.lower().split()\n",
    "    return l1, l2"
   ]
  },
  {
   "cell_type": "code",
   "execution_count": 33,
   "id": "cooked-mandate",
   "metadata": {},
   "outputs": [],
   "source": [
    "dum1 = 'two dogs are fighting'\n",
    "dum2 = 'two dogs are loving'\n",
    "\n",
    "dum3 = 'the dough used for pancakes is thick'\n",
    "dum4 = 'the dough used for pancakes is thin'\n",
    "\n",
    "dum5 = 'The response time of the system should be high'\n",
    "dum6 = 'The capacity of the system should be high'\n",
    "\n",
    "l1, l2 = sent_to_list(dum5, dum6)\n",
    "iou = jaccard_similarity(l1, l2)\n",
    "\n",
    "s1 = convert_sent_to_emb([dum1.lower()], word_to_vec)\n",
    "s2 = convert_sent_to_emb([dum2.lower()], word_to_vec)"
   ]
  },
  {
   "cell_type": "code",
   "execution_count": 34,
   "id": "parliamentary-review",
   "metadata": {},
   "outputs": [
    {
     "data": {
      "text/plain": [
       "(1, 40, 200)"
      ]
     },
     "execution_count": 34,
     "metadata": {},
     "output_type": "execute_result"
    }
   ],
   "source": [
    "\n",
    "s1.shape"
   ]
  },
  {
   "cell_type": "code",
   "execution_count": 35,
   "id": "molecular-sigma",
   "metadata": {},
   "outputs": [
    {
     "data": {
      "text/plain": [
       "array([[0.83693063]], dtype=float32)"
      ]
     },
     "execution_count": 35,
     "metadata": {},
     "output_type": "execute_result"
    }
   ],
   "source": [
    "model.predict([s1, s2, np.array([iou, 0, 0]).reshape(1, 3)])"
   ]
  },
  {
   "cell_type": "code",
   "execution_count": 23,
   "id": "noted-camera",
   "metadata": {},
   "outputs": [
    {
     "name": "stderr",
     "output_type": "stream",
     "text": [
      "c:\\users\\jaimin\\appdata\\local\\programs\\python\\python39\\lib\\site-packages\\keras\\engine\\functional.py:1410: CustomMaskWarning: Custom mask layers require a config and must override get_config. When loading, the custom mask layer must be passed to the custom_objects argument.\n",
      "  layer_config = serialize_layer_fn(layer)\n"
     ]
    }
   ],
   "source": [
    "model.save('contradiction_detection_model.h5')"
   ]
  },
  {
   "cell_type": "code",
   "execution_count": 24,
   "id": "ranking-advice",
   "metadata": {},
   "outputs": [],
   "source": [
    "cd_model = load_model('contradiction_detection_model.h5')"
   ]
  },
  {
   "cell_type": "code",
   "execution_count": 25,
   "id": "geological-eligibility",
   "metadata": {},
   "outputs": [
    {
     "data": {
      "text/plain": [
       "array([[0.02787796]], dtype=float32)"
      ]
     },
     "execution_count": 25,
     "metadata": {},
     "output_type": "execute_result"
    }
   ],
   "source": [
    "cd_model.predict([s1, s2, np.array([0.75, 0, 1.0]).reshape(1, 3)])"
   ]
  },
  {
   "cell_type": "code",
   "execution_count": null,
   "id": "particular-essence",
   "metadata": {},
   "outputs": [],
   "source": []
  }
 ],
 "metadata": {
  "kernelspec": {
   "display_name": "Python 3",
   "language": "python",
   "name": "python3"
  },
  "language_info": {
   "codemirror_mode": {
    "name": "ipython",
    "version": 3
   },
   "file_extension": ".py",
   "mimetype": "text/x-python",
   "name": "python",
   "nbconvert_exporter": "python",
   "pygments_lexer": "ipython3",
   "version": "3.9.1"
  }
 },
 "nbformat": 4,
 "nbformat_minor": 5
}
