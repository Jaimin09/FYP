{
 "cells": [
  {
   "cell_type": "code",
   "execution_count": 1,
   "id": "healthy-communication",
   "metadata": {},
   "outputs": [],
   "source": [
    "import numpy as np\n",
    "import pandas as pd\n",
    "import gensim\n",
    "import nltk\n",
    "\n",
    "from sklearn.feature_extraction.text import CountVectorizer\n",
    "\n",
    "import tensorflow as tf\n",
    "from tensorflow.keras import Sequential\n",
    "from tensorflow.keras.layers import Dense, Embedding, GlobalAveragePooling1D\n",
    "from tensorflow.keras.layers import TextVectorization"
   ]
  },
  {
   "cell_type": "markdown",
   "id": "broke-portfolio",
   "metadata": {},
   "source": [
    "# Glove Embeddings"
   ]
  },
  {
   "cell_type": "code",
   "execution_count": 2,
   "id": "offshore-oxford",
   "metadata": {},
   "outputs": [],
   "source": [
    "def read_glove_vecs(glove_file):\n",
    "    with open(glove_file, 'r', encoding=\"utf8\") as f:\n",
    "        words = set()\n",
    "        word_to_vec_map = {}\n",
    "        for line in f:\n",
    "            line = line.strip().split()\n",
    "            curr_word = line[0]\n",
    "            words.add(curr_word)\n",
    "            word_to_vec_map[curr_word] = np.array(line[1:], dtype=np.float64)\n",
    "        \n",
    "        i = 1\n",
    "        words_to_index = {}\n",
    "        index_to_words = {}\n",
    "        for w in sorted(words):\n",
    "            words_to_index[w] = i\n",
    "            index_to_words[i] = w\n",
    "            i = i + 1\n",
    "    return words_to_index, index_to_words, word_to_vec_map"
   ]
  },
  {
   "cell_type": "code",
   "execution_count": 3,
   "id": "rolled-amino",
   "metadata": {},
   "outputs": [],
   "source": [
    "word_to_index, index_to_word, word2vec = read_glove_vecs('data/glove.6B.200d.txt')"
   ]
  },
  {
   "cell_type": "code",
   "execution_count": 4,
   "id": "distributed-vocabulary",
   "metadata": {},
   "outputs": [],
   "source": [
    "def get_embeddings(X, embedding, avg = False):\n",
    "    ans = np.zeros((X.shape[0], X.shape[1], len(embedding['word'])))\n",
    "    ans.shape\n",
    "\n",
    "    for i in range(X.shape[0]):\n",
    "        for j in range(X.shape[1]):\n",
    "            ans[i, j] = embedding[X[i, j]]\n",
    "       \n",
    "    if(avg):\n",
    "        ans = np.average(ans, axis=1)\n",
    "        \n",
    "    return ans"
   ]
  },
  {
   "cell_type": "markdown",
   "id": "polyphonic-packet",
   "metadata": {},
   "source": [
    "# Preprocess Dataset"
   ]
  },
  {
   "cell_type": "code",
   "execution_count": 7,
   "id": "burning-marriage",
   "metadata": {},
   "outputs": [],
   "source": [
    "stopwords = nltk.corpus.stopwords.words('english')\n",
    "stopwords.extend(['shall', 'also', 'upon', 'upto'])"
   ]
  },
  {
   "cell_type": "code",
   "execution_count": 19,
   "id": "twelve-coast",
   "metadata": {},
   "outputs": [],
   "source": [
    "file = open('data/Embedding_Data.txt', 'r', encoding=\"utf8\")\n",
    "content = file.read()\n",
    "num_lines = 0\n",
    "\n",
    "for i in content.split(\"\\n\"):\n",
    "    if i:\n",
    "        num_lines += 1\n",
    "\n",
    "data = []\n",
    "f = open('data/Embedding_Data.txt', 'r', encoding='utf8')\n",
    "for i in range(num_lines):\n",
    "    words = nltk.word_tokenize(f.readline())\n",
    "    words=[word.lower() for word in words if word.isalpha() and word.lower() not in stopwords]\n",
    "    if(len(words)>3):\n",
    "        data.append(words)\n",
    "        \n",
    "# data"
   ]
  },
  {
   "cell_type": "code",
   "execution_count": 22,
   "id": "composite-sentence",
   "metadata": {},
   "outputs": [
    {
     "data": {
      "text/plain": [
       "623"
      ]
     },
     "execution_count": 22,
     "metadata": {},
     "output_type": "execute_result"
    }
   ],
   "source": [
    "len(data)"
   ]
  },
  {
   "cell_type": "code",
   "execution_count": 23,
   "id": "heavy-roberts",
   "metadata": {},
   "outputs": [],
   "source": [
    "def create_dataset(data, n, add_reverse = True):\n",
    "    ngram_list = []\n",
    "\n",
    "    for text in data:\n",
    "        ngram = list(nltk.ngrams(text, n))\n",
    "        ngram = [list(ele) for ele in ngram]\n",
    "        \n",
    "        ngram_list.extend(ngram)\n",
    "\n",
    "        if(add_reverse):\n",
    "            ngram_rev = []\n",
    "            for sent in ngram:\n",
    "                nr = [w for w in reversed(sent)]\n",
    "                ngram_rev.append(nr)\n",
    "            ngram_list.extend(ngram_rev)\n",
    "    \n",
    "    dataset = np.array(ngram_list)\n",
    "    X = dataset[:, :-1]\n",
    "    Y = dataset[:, -1].reshape(X.shape[0], 1)\n",
    "    \n",
    "    return X, Y"
   ]
  },
  {
   "cell_type": "code",
   "execution_count": 24,
   "id": "authentic-wagner",
   "metadata": {},
   "outputs": [
    {
     "name": "stdout",
     "output_type": "stream",
     "text": [
      "(22220, 2)\n",
      "(22220, 1)\n"
     ]
    }
   ],
   "source": [
    "X, Y = create_dataset(data, 3, True)\n",
    "print(X.shape)\n",
    "print(Y.shape)"
   ]
  },
  {
   "cell_type": "code",
   "execution_count": 25,
   "id": "increasing-samuel",
   "metadata": {},
   "outputs": [],
   "source": [
    "def preprocess_data(X):\n",
    "    \n",
    "    X = [\" \".join(sent) for sent in X]\n",
    "    \n",
    "    # Create Bag-of-words\n",
    "    CountVec = CountVectorizer(ngram_range=(1,1), # to use bigrams ngram_range=(2,2)\n",
    "                               stop_words='english')\n",
    "\n",
    "    Count_data = CountVec.fit_transform(X)\n",
    "\n",
    "    cv_dataframe=pd.DataFrame(Count_data.toarray(),columns=CountVec.get_feature_names())\n",
    "\n",
    "    Xt = cv_dataframe.values\n",
    "    \n",
    "    return Xt, cv_dataframe"
   ]
  },
  {
   "cell_type": "code",
   "execution_count": 26,
   "id": "controlling-choice",
   "metadata": {},
   "outputs": [
    {
     "name": "stdout",
     "output_type": "stream",
     "text": [
      "(22220, 2495)\n",
      "(22220, 2495)\n"
     ]
    }
   ],
   "source": [
    "Xdata, _ = preprocess_data(X)\n",
    "Ydata, cv = preprocess_data(Y)\n",
    "all_words = np.array(cv.columns)\n",
    "\n",
    "print(Ydata.shape)\n",
    "print(Xdata.shape)"
   ]
  },
  {
   "cell_type": "code",
   "execution_count": 27,
   "id": "stretch-boxing",
   "metadata": {},
   "outputs": [],
   "source": [
    "embed_size = len(word2vec['word'])\n",
    "\n",
    "model = Sequential([\n",
    "    Dense(embed_size, activation = 'relu', input_shape = (Xdata.shape[1],)),\n",
    "    Dense(Xdata.shape[1], activation = 'softmax')\n",
    "])"
   ]
  },
  {
   "cell_type": "code",
   "execution_count": 28,
   "id": "printable-behavior",
   "metadata": {},
   "outputs": [
    {
     "data": {
      "text/plain": [
       "array([[ 0.17784 ,  1.0057  ,  0.66254 , ..., -0.091201,  0.18042 ,\n",
       "        -0.33554 ],\n",
       "       [ 0.31527 ,  0.16268 , -0.18361 , ...,  0.52234 ,  0.33492 ,\n",
       "         0.3082  ],\n",
       "       [ 0.42923 ,  0.22089 , -0.22135 , ...,  0.59913 , -0.18488 ,\n",
       "         0.069688],\n",
       "       ...,\n",
       "       [-0.57573 ,  0.2476  ,  0.60361 , ...,  0.083726,  0.38442 ,\n",
       "         0.013646],\n",
       "       [-0.11818 ,  0.040206, -0.74116 , ..., -0.12308 ,  0.11491 ,\n",
       "        -0.030226],\n",
       "       [-0.1524  ,  0.13831 , -0.82515 , ...,  0.12213 ,  0.2555  ,\n",
       "         0.007435]])"
      ]
     },
     "execution_count": 28,
     "metadata": {},
     "output_type": "execute_result"
    }
   ],
   "source": [
    "weights = []\n",
    "for word in all_words:\n",
    "    try:\n",
    "        weights.append(word2vec[word])\n",
    "    except:\n",
    "        weights.append(np.zeros((len(word2vec['word']),)))\n",
    "    \n",
    "weights = np.array(weights)\n",
    "weights"
   ]
  },
  {
   "cell_type": "code",
   "execution_count": 29,
   "id": "bright-assignment",
   "metadata": {},
   "outputs": [],
   "source": [
    "model.compile(optimizer='adam', loss = 'categorical_crossentropy', metrics=['accuracy'])"
   ]
  },
  {
   "cell_type": "code",
   "execution_count": 30,
   "id": "peripheral-increase",
   "metadata": {},
   "outputs": [],
   "source": [
    "model.layers[0].set_weights([weights, np.random.randn(model.get_weights()[1].shape[0], )])"
   ]
  },
  {
   "cell_type": "code",
   "execution_count": 33,
   "id": "durable-western",
   "metadata": {
    "scrolled": true
   },
   "outputs": [
    {
     "name": "stdout",
     "output_type": "stream",
     "text": [
      "Epoch 1/5\n",
      "695/695 [==============================] - 13s 19ms/step - loss: 4.6598 - accuracy: 0.1653\n",
      "Epoch 2/5\n",
      "695/695 [==============================] - 13s 19ms/step - loss: 4.8201 - accuracy: 0.1645\n",
      "Epoch 3/5\n",
      "695/695 [==============================] - 13s 19ms/step - loss: 5.0299 - accuracy: 0.1601\n",
      "Epoch 4/5\n",
      "695/695 [==============================] - 14s 20ms/step - loss: 5.1188 - accuracy: 0.1670\n",
      "Epoch 5/5\n",
      "695/695 [==============================] - 14s 20ms/step - loss: 5.3408 - accuracy: 0.1616\n"
     ]
    },
    {
     "data": {
      "text/plain": [
       "<keras.callbacks.History at 0x1d800849970>"
      ]
     },
     "execution_count": 33,
     "metadata": {},
     "output_type": "execute_result"
    }
   ],
   "source": [
    "model.fit(Xdata, Ydata, epochs = 5)"
   ]
  },
  {
   "cell_type": "code",
   "execution_count": 68,
   "id": "greater-lightning",
   "metadata": {},
   "outputs": [],
   "source": [
    "weights = model.get_weights()[0]"
   ]
  },
  {
   "cell_type": "code",
   "execution_count": 69,
   "id": "better-marks",
   "metadata": {},
   "outputs": [
    {
     "data": {
      "text/plain": [
       "(2367, 100)"
      ]
     },
     "execution_count": 69,
     "metadata": {},
     "output_type": "execute_result"
    }
   ],
   "source": [
    "weights.shape"
   ]
  },
  {
   "cell_type": "code",
   "execution_count": 70,
   "id": "boolean-performance",
   "metadata": {},
   "outputs": [],
   "source": [
    "w2v = {}\n",
    "for i, w in enumerate(all_words):\n",
    "    word2vec[w] = weights[i]"
   ]
  },
  {
   "cell_type": "code",
   "execution_count": 77,
   "id": "designed-panel",
   "metadata": {},
   "outputs": [],
   "source": [
    "# def get_score(word1, word2):\n",
    "#     print(np.sum(np.abs(w2v[word1] - w2v[word2])))\n",
    "    \n",
    "def get_score2(word1, word2):\n",
    "    print(np.sum(np.abs(word2vec[word1] - word2vec[word2])))"
   ]
  },
  {
   "cell_type": "code",
   "execution_count": 80,
   "id": "phantom-foster",
   "metadata": {},
   "outputs": [
    {
     "name": "stdout",
     "output_type": "stream",
     "text": [
      "63.98974\n",
      "45.098294\n",
      "95.04921\n",
      "42.49889600000001\n",
      "85.340256\n",
      "34.26461385000001\n",
      "168.12871\n"
     ]
    }
   ],
   "source": [
    "get_score('performance', 'speed')\n",
    "get_score2('performance', 'speed')\n",
    "get_score('specification', 'requirements')\n",
    "get_score2('specification', 'requirements')\n",
    "get_score('software', 'user')\n",
    "get_score2('software', 'user')\n",
    "get_score('software', 'marvel')"
   ]
  },
  {
   "cell_type": "markdown",
   "id": "hidden-billy",
   "metadata": {},
   "source": [
    "Access, information, ensure, authentication, secure, malicious, percent, incorrect, login,\n",
    "password, confidentiality, integrity, completeness, accuracy, perturbation, virus,\n",
    "authorization, validation, encryption, decryption \n",
    "\n",
    "Second, response, time, longer, fast, minute, take, process, system, maximum,\n",
    "minimum, flow, every, space, time, memory, storage, throughput, peak, mean, index,\n",
    "compress, uncompress, runtime, perform, execute, dynamic, offset, reduce, fixing,\n",
    "early, late, acceptable, capacity"
   ]
  },
  {
   "cell_type": "code",
   "execution_count": 115,
   "id": "unlimited-monaco",
   "metadata": {},
   "outputs": [],
   "source": [
    "clus1 = ['access', 'information', 'ensure', 'authentication', 'secure', 'incorrect', 'login', 'password', 'authorization', 'validation']\n",
    "clus1 = np.array(clus1).reshape(len(clus1), 1)"
   ]
  },
  {
   "cell_type": "code",
   "execution_count": 116,
   "id": "valuable-ladder",
   "metadata": {},
   "outputs": [
    {
     "name": "stdout",
     "output_type": "stream",
     "text": [
      "(10, 100)\n"
     ]
    }
   ],
   "source": [
    "new_vals = get_embeddings(clus1, w2v, True)\n",
    "old_vals = get_embeddings(clus1, word2vec, True)\n",
    "\n",
    "print(new_vals.shape)"
   ]
  },
  {
   "cell_type": "code",
   "execution_count": 117,
   "id": "durable-delivery",
   "metadata": {},
   "outputs": [
    {
     "data": {
      "text/plain": [
       "77.3194915594963"
      ]
     },
     "execution_count": 117,
     "metadata": {},
     "output_type": "execute_result"
    }
   ],
   "source": [
    "np.sum(np.std(new_vals, axis = 0))"
   ]
  },
  {
   "cell_type": "code",
   "execution_count": 118,
   "id": "massive-convertible",
   "metadata": {},
   "outputs": [
    {
     "data": {
      "text/plain": [
       "38.57120067777425"
      ]
     },
     "execution_count": 118,
     "metadata": {},
     "output_type": "execute_result"
    }
   ],
   "source": [
    "np.sum(np.std(old_vals, axis = 0))"
   ]
  },
  {
   "cell_type": "code",
   "execution_count": 121,
   "id": "desirable-extension",
   "metadata": {},
   "outputs": [
    {
     "name": "stdout",
     "output_type": "stream",
     "text": [
      "[-0.4177245  -0.05832736  0.69810474  0.12418088  0.69168586  0.6958351\n",
      " -0.33664554  0.758713    1.3777964   0.9757648   0.7765456  -0.06642433\n",
      "  0.4850468   0.6928285  -0.20906155  0.38179663  1.1796879   0.43780074\n",
      " -1.0015404   0.09326015  0.15187779 -0.41366392  0.5962879   0.05639357\n",
      "  0.02737966 -0.21387483 -0.01159031 -0.2525727  -0.57675683  1.1950502\n",
      "  0.7578642  -0.09896418 -0.05481916  0.14516234  0.42515987  0.3766653\n",
      " -0.3547588   0.6432506   0.44843525  1.2638814   0.1365273  -0.40339026\n",
      "  2.4992285   0.7677544   0.40470415 -0.23895818 -0.34537     0.5834055\n",
      " -0.57938975 -0.5073305   1.2602712   0.17959294  0.10180157  1.6459987\n",
      " -0.3406694  -2.3517368   1.5475576  -0.0892527   1.9136493   0.6960121\n",
      "  0.00464339 -0.14616165 -0.12455428  0.02014696 -0.21472593  0.79754823\n",
      "  0.08699043  0.999122    1.3614556   0.64468396  0.41722915 -0.0772491\n",
      "  0.21912956 -0.47087342  0.7792182   0.41929328  0.7091661   0.5178715\n",
      " -1.345449    0.45738646  1.2294705  -0.00831395  0.4048674   0.04566277\n",
      " -1.4641893   0.6116113   0.95936924  0.3152036  -0.05690344 -0.47362962\n",
      "  0.5153295  -0.16617282  0.11464079  0.29304206 -0.37310538  1.3110938\n",
      "  0.41836882  0.3531888   0.26094195  1.4606692 ]\n",
      "\n",
      "[-5.4812e-01 -5.9526e-01  5.1106e-01 -2.8236e-01  4.2281e-02  9.8602e-03\n",
      " -8.1804e-01  3.1707e-01  7.2298e-01  6.5932e-01 -1.1503e-02 -1.5633e-01\n",
      "  4.0415e-01  3.3654e-01 -1.9118e-01  2.2318e-01  4.7275e-01 -3.7604e-01\n",
      " -1.4368e+00 -7.0577e-01  1.8936e-03 -7.8053e-01  3.5409e-01 -3.9263e-01\n",
      " -3.1086e-01 -4.8950e-01 -4.2803e-02 -3.6605e-01 -4.3291e-01  1.1099e-01\n",
      "  1.3172e-01 -1.4052e-01 -5.0330e-01  3.0447e-01  2.7810e-01 -3.5067e-02\n",
      " -1.6576e-01  5.1028e-01  3.9634e-01  4.3908e-01 -2.1582e-01 -5.8404e-01\n",
      "  1.1359e+00  4.9340e-01  3.5553e-01 -2.1484e-01 -2.7747e-01  3.1142e-01\n",
      " -7.2995e-01 -7.2453e-01  6.7625e-01 -2.0535e-01 -3.5954e-01  1.7725e+00\n",
      " -1.7912e-02 -2.3846e+00  8.8889e-01 -5.1865e-01  1.8868e+00  4.3222e-01\n",
      " -2.6865e-01 -8.0824e-02 -2.7343e-01 -3.1773e-01  4.7822e-01  1.7027e-01\n",
      " -2.0541e-01  3.8748e-01  8.8872e-01  6.1151e-01  4.8762e-01 -8.6307e-01\n",
      " -2.1343e-01 -9.3353e-01  2.0169e-01  1.1287e-01  2.2997e-01  3.5405e-01\n",
      " -1.0584e+00  2.8047e-01  1.7728e+00 -1.8948e-01  4.1384e-01 -9.9218e-03\n",
      " -1.4830e+00  6.7675e-01  6.3901e-01  1.6577e-01 -2.5380e-01 -4.6696e-01\n",
      "  4.9387e-01  6.8447e-02 -2.8346e-01 -1.2219e-01 -5.7999e-01  9.9332e-01\n",
      "  5.2901e-01  4.4368e-02  3.5067e-01  5.3382e-01]\n"
     ]
    }
   ],
   "source": [
    "print(w2v['security'])\n",
    "print()\n",
    "print(word2vec['security'])"
   ]
  },
  {
   "cell_type": "code",
   "execution_count": 38,
   "id": "durable-frequency",
   "metadata": {},
   "outputs": [
    {
     "ename": "KeyboardInterrupt",
     "evalue": "",
     "output_type": "error",
     "traceback": [
      "\u001b[1;31m---------------------------------------------------------------------------\u001b[0m",
      "\u001b[1;31mKeyboardInterrupt\u001b[0m                         Traceback (most recent call last)",
      "\u001b[1;32m<ipython-input-38-dd81bb3d2b5e>\u001b[0m in \u001b[0;36m<module>\u001b[1;34m\u001b[0m\n\u001b[0;32m      3\u001b[0m \u001b[1;33m\u001b[0m\u001b[0m\n\u001b[0;32m      4\u001b[0m \u001b[0mfile\u001b[0m \u001b[1;33m=\u001b[0m \u001b[0mopen\u001b[0m\u001b[1;33m(\u001b[0m\u001b[1;34m'data/word2Vec.txt'\u001b[0m\u001b[1;33m,\u001b[0m \u001b[1;34m'w'\u001b[0m\u001b[1;33m)\u001b[0m\u001b[1;33m\u001b[0m\u001b[1;33m\u001b[0m\u001b[0m\n\u001b[1;32m----> 5\u001b[1;33m \u001b[0mfile\u001b[0m\u001b[1;33m.\u001b[0m\u001b[0mwrite\u001b[0m\u001b[1;33m(\u001b[0m\u001b[0mstr\u001b[0m\u001b[1;33m(\u001b[0m\u001b[0mword2vec\u001b[0m\u001b[1;33m)\u001b[0m\u001b[1;33m)\u001b[0m\u001b[1;33m\u001b[0m\u001b[1;33m\u001b[0m\u001b[0m\n\u001b[0m",
      "\u001b[1;32mc:\\users\\jaimin\\appdata\\local\\programs\\python\\python39\\lib\\site-packages\\numpy\\core\\arrayprint.py\u001b[0m in \u001b[0;36m_array_repr_implementation\u001b[1;34m(arr, max_line_width, precision, suppress_small, array2string)\u001b[0m\n\u001b[0;32m   1384\u001b[0m         \u001b[0mlst\u001b[0m \u001b[1;33m=\u001b[0m \u001b[0mrepr\u001b[0m\u001b[1;33m(\u001b[0m\u001b[0marr\u001b[0m\u001b[1;33m.\u001b[0m\u001b[0mitem\u001b[0m\u001b[1;33m(\u001b[0m\u001b[1;33m)\u001b[0m\u001b[1;33m)\u001b[0m\u001b[1;33m\u001b[0m\u001b[1;33m\u001b[0m\u001b[0m\n\u001b[0;32m   1385\u001b[0m     \u001b[1;32melif\u001b[0m \u001b[0marr\u001b[0m\u001b[1;33m.\u001b[0m\u001b[0msize\u001b[0m \u001b[1;33m>\u001b[0m \u001b[1;36m0\u001b[0m \u001b[1;32mor\u001b[0m \u001b[0marr\u001b[0m\u001b[1;33m.\u001b[0m\u001b[0mshape\u001b[0m \u001b[1;33m==\u001b[0m \u001b[1;33m(\u001b[0m\u001b[1;36m0\u001b[0m\u001b[1;33m,\u001b[0m\u001b[1;33m)\u001b[0m\u001b[1;33m:\u001b[0m\u001b[1;33m\u001b[0m\u001b[1;33m\u001b[0m\u001b[0m\n\u001b[1;32m-> 1386\u001b[1;33m         lst = array2string(arr, max_line_width, precision, suppress_small,\n\u001b[0m\u001b[0;32m   1387\u001b[0m                            ', ', prefix, suffix=suffix)\n\u001b[0;32m   1388\u001b[0m     \u001b[1;32melse\u001b[0m\u001b[1;33m:\u001b[0m  \u001b[1;31m# show zero-length shape unless it is (0,)\u001b[0m\u001b[1;33m\u001b[0m\u001b[1;33m\u001b[0m\u001b[0m\n",
      "\u001b[1;32mc:\\users\\jaimin\\appdata\\local\\programs\\python\\python39\\lib\\site-packages\\numpy\\core\\arrayprint.py\u001b[0m in \u001b[0;36marray2string\u001b[1;34m(a, max_line_width, precision, suppress_small, separator, prefix, style, formatter, threshold, edgeitems, sign, floatmode, suffix, legacy)\u001b[0m\n\u001b[0;32m    690\u001b[0m         \u001b[1;32mreturn\u001b[0m \u001b[1;34m\"[]\"\u001b[0m\u001b[1;33m\u001b[0m\u001b[1;33m\u001b[0m\u001b[0m\n\u001b[0;32m    691\u001b[0m \u001b[1;33m\u001b[0m\u001b[0m\n\u001b[1;32m--> 692\u001b[1;33m     \u001b[1;32mreturn\u001b[0m \u001b[0m_array2string\u001b[0m\u001b[1;33m(\u001b[0m\u001b[0ma\u001b[0m\u001b[1;33m,\u001b[0m \u001b[0moptions\u001b[0m\u001b[1;33m,\u001b[0m \u001b[0mseparator\u001b[0m\u001b[1;33m,\u001b[0m \u001b[0mprefix\u001b[0m\u001b[1;33m)\u001b[0m\u001b[1;33m\u001b[0m\u001b[1;33m\u001b[0m\u001b[0m\n\u001b[0m\u001b[0;32m    693\u001b[0m \u001b[1;33m\u001b[0m\u001b[0m\n\u001b[0;32m    694\u001b[0m \u001b[1;33m\u001b[0m\u001b[0m\n",
      "\u001b[1;32mc:\\users\\jaimin\\appdata\\local\\programs\\python\\python39\\lib\\site-packages\\numpy\\core\\arrayprint.py\u001b[0m in \u001b[0;36mwrapper\u001b[1;34m(self, *args, **kwargs)\u001b[0m\n\u001b[0;32m    466\u001b[0m             \u001b[0mrepr_running\u001b[0m\u001b[1;33m.\u001b[0m\u001b[0madd\u001b[0m\u001b[1;33m(\u001b[0m\u001b[0mkey\u001b[0m\u001b[1;33m)\u001b[0m\u001b[1;33m\u001b[0m\u001b[1;33m\u001b[0m\u001b[0m\n\u001b[0;32m    467\u001b[0m             \u001b[1;32mtry\u001b[0m\u001b[1;33m:\u001b[0m\u001b[1;33m\u001b[0m\u001b[1;33m\u001b[0m\u001b[0m\n\u001b[1;32m--> 468\u001b[1;33m                 \u001b[1;32mreturn\u001b[0m \u001b[0mf\u001b[0m\u001b[1;33m(\u001b[0m\u001b[0mself\u001b[0m\u001b[1;33m,\u001b[0m \u001b[1;33m*\u001b[0m\u001b[0margs\u001b[0m\u001b[1;33m,\u001b[0m \u001b[1;33m**\u001b[0m\u001b[0mkwargs\u001b[0m\u001b[1;33m)\u001b[0m\u001b[1;33m\u001b[0m\u001b[1;33m\u001b[0m\u001b[0m\n\u001b[0m\u001b[0;32m    469\u001b[0m             \u001b[1;32mfinally\u001b[0m\u001b[1;33m:\u001b[0m\u001b[1;33m\u001b[0m\u001b[1;33m\u001b[0m\u001b[0m\n\u001b[0;32m    470\u001b[0m                 \u001b[0mrepr_running\u001b[0m\u001b[1;33m.\u001b[0m\u001b[0mdiscard\u001b[0m\u001b[1;33m(\u001b[0m\u001b[0mkey\u001b[0m\u001b[1;33m)\u001b[0m\u001b[1;33m\u001b[0m\u001b[1;33m\u001b[0m\u001b[0m\n",
      "\u001b[1;32mc:\\users\\jaimin\\appdata\\local\\programs\\python\\python39\\lib\\site-packages\\numpy\\core\\arrayprint.py\u001b[0m in \u001b[0;36m_array2string\u001b[1;34m(a, options, separator, prefix)\u001b[0m\n\u001b[0;32m    492\u001b[0m \u001b[1;33m\u001b[0m\u001b[0m\n\u001b[0;32m    493\u001b[0m     \u001b[1;31m# find the right formatting function for the array\u001b[0m\u001b[1;33m\u001b[0m\u001b[1;33m\u001b[0m\u001b[1;33m\u001b[0m\u001b[0m\n\u001b[1;32m--> 494\u001b[1;33m     \u001b[0mformat_function\u001b[0m \u001b[1;33m=\u001b[0m \u001b[0m_get_format_function\u001b[0m\u001b[1;33m(\u001b[0m\u001b[0mdata\u001b[0m\u001b[1;33m,\u001b[0m \u001b[1;33m**\u001b[0m\u001b[0moptions\u001b[0m\u001b[1;33m)\u001b[0m\u001b[1;33m\u001b[0m\u001b[1;33m\u001b[0m\u001b[0m\n\u001b[0m\u001b[0;32m    495\u001b[0m \u001b[1;33m\u001b[0m\u001b[0m\n\u001b[0;32m    496\u001b[0m     \u001b[1;31m# skip over \"[\"\u001b[0m\u001b[1;33m\u001b[0m\u001b[1;33m\u001b[0m\u001b[1;33m\u001b[0m\u001b[0m\n",
      "\u001b[1;32mc:\\users\\jaimin\\appdata\\local\\programs\\python\\python39\\lib\\site-packages\\numpy\\core\\arrayprint.py\u001b[0m in \u001b[0;36m_get_format_function\u001b[1;34m(data, **options)\u001b[0m\n\u001b[0;32m    425\u001b[0m             \u001b[1;32mreturn\u001b[0m \u001b[0mformatdict\u001b[0m\u001b[1;33m[\u001b[0m\u001b[1;34m'longfloat'\u001b[0m\u001b[1;33m]\u001b[0m\u001b[1;33m(\u001b[0m\u001b[1;33m)\u001b[0m\u001b[1;33m\u001b[0m\u001b[1;33m\u001b[0m\u001b[0m\n\u001b[0;32m    426\u001b[0m         \u001b[1;32melse\u001b[0m\u001b[1;33m:\u001b[0m\u001b[1;33m\u001b[0m\u001b[1;33m\u001b[0m\u001b[0m\n\u001b[1;32m--> 427\u001b[1;33m             \u001b[1;32mreturn\u001b[0m \u001b[0mformatdict\u001b[0m\u001b[1;33m[\u001b[0m\u001b[1;34m'float'\u001b[0m\u001b[1;33m]\u001b[0m\u001b[1;33m(\u001b[0m\u001b[1;33m)\u001b[0m\u001b[1;33m\u001b[0m\u001b[1;33m\u001b[0m\u001b[0m\n\u001b[0m\u001b[0;32m    428\u001b[0m     \u001b[1;32melif\u001b[0m \u001b[0missubclass\u001b[0m\u001b[1;33m(\u001b[0m\u001b[0mdtypeobj\u001b[0m\u001b[1;33m,\u001b[0m \u001b[0m_nt\u001b[0m\u001b[1;33m.\u001b[0m\u001b[0mcomplexfloating\u001b[0m\u001b[1;33m)\u001b[0m\u001b[1;33m:\u001b[0m\u001b[1;33m\u001b[0m\u001b[1;33m\u001b[0m\u001b[0m\n\u001b[0;32m    429\u001b[0m         \u001b[1;32mif\u001b[0m \u001b[0missubclass\u001b[0m\u001b[1;33m(\u001b[0m\u001b[0mdtypeobj\u001b[0m\u001b[1;33m,\u001b[0m \u001b[0m_nt\u001b[0m\u001b[1;33m.\u001b[0m\u001b[0mclongfloat\u001b[0m\u001b[1;33m)\u001b[0m\u001b[1;33m:\u001b[0m\u001b[1;33m\u001b[0m\u001b[1;33m\u001b[0m\u001b[0m\n",
      "\u001b[1;32mc:\\users\\jaimin\\appdata\\local\\programs\\python\\python39\\lib\\site-packages\\numpy\\core\\arrayprint.py\u001b[0m in \u001b[0;36m<lambda>\u001b[1;34m()\u001b[0m\n\u001b[0;32m    364\u001b[0m         \u001b[1;34m'bool'\u001b[0m\u001b[1;33m:\u001b[0m \u001b[1;32mlambda\u001b[0m\u001b[1;33m:\u001b[0m \u001b[0mBoolFormat\u001b[0m\u001b[1;33m(\u001b[0m\u001b[0mdata\u001b[0m\u001b[1;33m)\u001b[0m\u001b[1;33m,\u001b[0m\u001b[1;33m\u001b[0m\u001b[1;33m\u001b[0m\u001b[0m\n\u001b[0;32m    365\u001b[0m         \u001b[1;34m'int'\u001b[0m\u001b[1;33m:\u001b[0m \u001b[1;32mlambda\u001b[0m\u001b[1;33m:\u001b[0m \u001b[0mIntegerFormat\u001b[0m\u001b[1;33m(\u001b[0m\u001b[0mdata\u001b[0m\u001b[1;33m)\u001b[0m\u001b[1;33m,\u001b[0m\u001b[1;33m\u001b[0m\u001b[1;33m\u001b[0m\u001b[0m\n\u001b[1;32m--> 366\u001b[1;33m         'float': lambda: FloatingFormat(\n\u001b[0m\u001b[0;32m    367\u001b[0m             data, precision, floatmode, suppress, sign, legacy=legacy),\n\u001b[0;32m    368\u001b[0m         'longfloat': lambda: FloatingFormat(\n",
      "\u001b[1;32mc:\\users\\jaimin\\appdata\\local\\programs\\python\\python39\\lib\\site-packages\\numpy\\core\\arrayprint.py\u001b[0m in \u001b[0;36m__init__\u001b[1;34m(self, data, precision, floatmode, suppress_small, sign, legacy)\u001b[0m\n\u001b[0;32m    859\u001b[0m         \u001b[0mself\u001b[0m\u001b[1;33m.\u001b[0m\u001b[0mlarge_exponent\u001b[0m \u001b[1;33m=\u001b[0m \u001b[1;32mFalse\u001b[0m\u001b[1;33m\u001b[0m\u001b[1;33m\u001b[0m\u001b[0m\n\u001b[0;32m    860\u001b[0m \u001b[1;33m\u001b[0m\u001b[0m\n\u001b[1;32m--> 861\u001b[1;33m         \u001b[0mself\u001b[0m\u001b[1;33m.\u001b[0m\u001b[0mfillFormat\u001b[0m\u001b[1;33m(\u001b[0m\u001b[0mdata\u001b[0m\u001b[1;33m)\u001b[0m\u001b[1;33m\u001b[0m\u001b[1;33m\u001b[0m\u001b[0m\n\u001b[0m\u001b[0;32m    862\u001b[0m \u001b[1;33m\u001b[0m\u001b[0m\n\u001b[0;32m    863\u001b[0m     \u001b[1;32mdef\u001b[0m \u001b[0mfillFormat\u001b[0m\u001b[1;33m(\u001b[0m\u001b[0mself\u001b[0m\u001b[1;33m,\u001b[0m \u001b[0mdata\u001b[0m\u001b[1;33m)\u001b[0m\u001b[1;33m:\u001b[0m\u001b[1;33m\u001b[0m\u001b[1;33m\u001b[0m\u001b[0m\n",
      "\u001b[1;32mc:\\users\\jaimin\\appdata\\local\\programs\\python\\python39\\lib\\site-packages\\numpy\\core\\arrayprint.py\u001b[0m in \u001b[0;36mfillFormat\u001b[1;34m(self, data)\u001b[0m\n\u001b[0;32m    921\u001b[0m             \u001b[1;32melse\u001b[0m\u001b[1;33m:\u001b[0m\u001b[1;33m\u001b[0m\u001b[1;33m\u001b[0m\u001b[0m\n\u001b[0;32m    922\u001b[0m                 \u001b[0mself\u001b[0m\u001b[1;33m.\u001b[0m\u001b[0mpad_left\u001b[0m \u001b[1;33m=\u001b[0m \u001b[0mmax\u001b[0m\u001b[1;33m(\u001b[0m\u001b[0mlen\u001b[0m\u001b[1;33m(\u001b[0m\u001b[0ms\u001b[0m\u001b[1;33m)\u001b[0m \u001b[1;32mfor\u001b[0m \u001b[0ms\u001b[0m \u001b[1;32min\u001b[0m \u001b[0mint_part\u001b[0m\u001b[1;33m)\u001b[0m\u001b[1;33m\u001b[0m\u001b[1;33m\u001b[0m\u001b[0m\n\u001b[1;32m--> 923\u001b[1;33m             \u001b[0mself\u001b[0m\u001b[1;33m.\u001b[0m\u001b[0mpad_right\u001b[0m \u001b[1;33m=\u001b[0m \u001b[0mmax\u001b[0m\u001b[1;33m(\u001b[0m\u001b[0mlen\u001b[0m\u001b[1;33m(\u001b[0m\u001b[0ms\u001b[0m\u001b[1;33m)\u001b[0m \u001b[1;32mfor\u001b[0m \u001b[0ms\u001b[0m \u001b[1;32min\u001b[0m \u001b[0mfrac_part\u001b[0m\u001b[1;33m)\u001b[0m\u001b[1;33m\u001b[0m\u001b[1;33m\u001b[0m\u001b[0m\n\u001b[0m\u001b[0;32m    924\u001b[0m             \u001b[0mself\u001b[0m\u001b[1;33m.\u001b[0m\u001b[0mexp_size\u001b[0m \u001b[1;33m=\u001b[0m \u001b[1;33m-\u001b[0m\u001b[1;36m1\u001b[0m\u001b[1;33m\u001b[0m\u001b[1;33m\u001b[0m\u001b[0m\n\u001b[0;32m    925\u001b[0m \u001b[1;33m\u001b[0m\u001b[0m\n",
      "\u001b[1;32mc:\\users\\jaimin\\appdata\\local\\programs\\python\\python39\\lib\\site-packages\\numpy\\core\\arrayprint.py\u001b[0m in \u001b[0;36m<genexpr>\u001b[1;34m(.0)\u001b[0m\n\u001b[0;32m    921\u001b[0m             \u001b[1;32melse\u001b[0m\u001b[1;33m:\u001b[0m\u001b[1;33m\u001b[0m\u001b[1;33m\u001b[0m\u001b[0m\n\u001b[0;32m    922\u001b[0m                 \u001b[0mself\u001b[0m\u001b[1;33m.\u001b[0m\u001b[0mpad_left\u001b[0m \u001b[1;33m=\u001b[0m \u001b[0mmax\u001b[0m\u001b[1;33m(\u001b[0m\u001b[0mlen\u001b[0m\u001b[1;33m(\u001b[0m\u001b[0ms\u001b[0m\u001b[1;33m)\u001b[0m \u001b[1;32mfor\u001b[0m \u001b[0ms\u001b[0m \u001b[1;32min\u001b[0m \u001b[0mint_part\u001b[0m\u001b[1;33m)\u001b[0m\u001b[1;33m\u001b[0m\u001b[1;33m\u001b[0m\u001b[0m\n\u001b[1;32m--> 923\u001b[1;33m             \u001b[0mself\u001b[0m\u001b[1;33m.\u001b[0m\u001b[0mpad_right\u001b[0m \u001b[1;33m=\u001b[0m \u001b[0mmax\u001b[0m\u001b[1;33m(\u001b[0m\u001b[0mlen\u001b[0m\u001b[1;33m(\u001b[0m\u001b[0ms\u001b[0m\u001b[1;33m)\u001b[0m \u001b[1;32mfor\u001b[0m \u001b[0ms\u001b[0m \u001b[1;32min\u001b[0m \u001b[0mfrac_part\u001b[0m\u001b[1;33m)\u001b[0m\u001b[1;33m\u001b[0m\u001b[1;33m\u001b[0m\u001b[0m\n\u001b[0m\u001b[0;32m    924\u001b[0m             \u001b[0mself\u001b[0m\u001b[1;33m.\u001b[0m\u001b[0mexp_size\u001b[0m \u001b[1;33m=\u001b[0m \u001b[1;33m-\u001b[0m\u001b[1;36m1\u001b[0m\u001b[1;33m\u001b[0m\u001b[1;33m\u001b[0m\u001b[0m\n\u001b[0;32m    925\u001b[0m \u001b[1;33m\u001b[0m\u001b[0m\n",
      "\u001b[1;31mKeyboardInterrupt\u001b[0m: "
     ]
    }
   ],
   "source": [
    "file = open('data/word2Vec.txt', 'w')\n",
    "file.write(str(word2vec))"
   ]
  },
  {
   "cell_type": "code",
   "execution_count": null,
   "id": "addressed-railway",
   "metadata": {},
   "outputs": [],
   "source": [
    "len(word2vec)"
   ]
  },
  {
   "cell_type": "code",
   "execution_count": null,
   "id": "intellectual-latitude",
   "metadata": {},
   "outputs": [],
   "source": []
  }
 ],
 "metadata": {
  "kernelspec": {
   "display_name": "Python 3",
   "language": "python",
   "name": "python3"
  },
  "language_info": {
   "codemirror_mode": {
    "name": "ipython",
    "version": 3
   },
   "file_extension": ".py",
   "mimetype": "text/x-python",
   "name": "python",
   "nbconvert_exporter": "python",
   "pygments_lexer": "ipython3",
   "version": "3.9.1"
  }
 },
 "nbformat": 4,
 "nbformat_minor": 5
}
