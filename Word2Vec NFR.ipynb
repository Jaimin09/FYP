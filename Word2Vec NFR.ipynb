{
 "cells": [
  {
   "cell_type": "code",
   "execution_count": 1,
   "id": "pursuant-purpose",
   "metadata": {},
   "outputs": [],
   "source": [
    "import numpy as np\n",
    "import pandas as pd\n",
    "import matplotlib.pyplot as plt\n",
    "\n",
    "import nltk\n",
    "from nltk.corpus import wordnet\n",
    "\n",
    "from keras.models import load_model"
   ]
  },
  {
   "cell_type": "code",
   "execution_count": 2,
   "id": "affecting-hometown",
   "metadata": {},
   "outputs": [],
   "source": [
    "def read_glove_vecs(glove_file):\n",
    "    with open(glove_file, 'r', encoding=\"utf8\") as f:\n",
    "        words = set()\n",
    "        word_to_vec_map = {}\n",
    "        for line in f:\n",
    "            line = line.strip().split()\n",
    "            curr_word = line[0]\n",
    "            words.add(curr_word)\n",
    "            word_to_vec_map[curr_word] = np.array(line[1:], dtype=np.float64)\n",
    "        \n",
    "        i = 1\n",
    "        words_to_index = {}\n",
    "        index_to_words = {}\n",
    "        for w in sorted(words):\n",
    "            words_to_index[w] = i\n",
    "            index_to_words[i] = w\n",
    "            i = i + 1\n",
    "    return words_to_index, index_to_words, word_to_vec_map"
   ]
  },
  {
   "cell_type": "code",
   "execution_count": 3,
   "id": "activated-workplace",
   "metadata": {},
   "outputs": [],
   "source": [
    "word_to_index, index_to_word, word2vec = read_glove_vecs('data/glove.6B.200d.txt')"
   ]
  },
  {
   "cell_type": "code",
   "execution_count": null,
   "id": "behavioral-humidity",
   "metadata": {},
   "outputs": [],
   "source": []
  },
  {
   "cell_type": "code",
   "execution_count": null,
   "id": "french-malawi",
   "metadata": {},
   "outputs": [],
   "source": []
  },
  {
   "cell_type": "code",
   "execution_count": 4,
   "id": "careful-gilbert",
   "metadata": {},
   "outputs": [
    {
     "name": "stdout",
     "output_type": "stream",
     "text": [
      "61.642304589999995\n",
      "74.74677249999999\n",
      "62.883545170000005\n"
     ]
    }
   ],
   "source": [
    "print(np.sum(np.abs(word2vec['seconds'] - word2vec['minutes'])))\n",
    "print(np.sum(np.abs(word2vec['time'] - word2vec['seconds'])))\n",
    "print(np.sum(np.abs(word2vec['laptop'] - word2vec['computer'])))\n",
    "# print(word2vec['man'])\n",
    "# print(word2vec['woman'])"
   ]
  },
  {
   "cell_type": "code",
   "execution_count": 5,
   "id": "partial-sewing",
   "metadata": {},
   "outputs": [],
   "source": [
    "val = np.sum(np.abs(word2vec['woman'] - word2vec['man']))\n",
    "min_val = 1000000\n",
    "w = \"\"\n",
    "for word in range(len(word2vec)):\n",
    "    if word != 'male':\n",
    "        sec_val = np.sum(np.abs(word2vec['male'] - word2vec['word']))\n",
    "        if(min_val > sec_val):\n",
    "            min_val = sec_val\n",
    "            w = word\n",
    "# print(w)\n"
   ]
  },
  {
   "cell_type": "code",
   "execution_count": 6,
   "id": "geological-consciousness",
   "metadata": {},
   "outputs": [],
   "source": [
    "data = [\"The complexity of the client system should be simple\",\n",
    "\"The complexity of the system should be sophisticated\",\n",
    "\"The color of customer service should be more brightened\",\n",
    "\"The color of the client service should be dark\",\n",
    "\"Increasing the complexity of the product recommender should not cause a decreasing download speed\",\n",
    "\"Increasing the complexity of client service should not cause decreasing maintainability of client service\",\n",
    "\"The system shall provide access to anonymous users for unrestricted functions\",\n",
    "\"The system shall provide privacy to users\",\n",
    "\"The response time of the system should be high\",\n",
    "\"The capacity of the system should be high\",\n",
    "\"Increasing the capacity of users should not cause decreasing system response time\"]"
   ]
  },
  {
   "cell_type": "code",
   "execution_count": 7,
   "id": "thirty-glance",
   "metadata": {},
   "outputs": [
    {
     "data": {
      "text/plain": [
       "[['complexity', 'client', 'system', 'simple'],\n",
       " ['complexity', 'system', 'sophisticated'],\n",
       " ['color', 'customer', 'service', 'brightened'],\n",
       " ['color', 'client', 'service', 'dark'],\n",
       " ['increasing',\n",
       "  'complexity',\n",
       "  'product',\n",
       "  'recommender',\n",
       "  'cause',\n",
       "  'decreasing',\n",
       "  'download',\n",
       "  'speed'],\n",
       " ['increasing',\n",
       "  'complexity',\n",
       "  'client',\n",
       "  'service',\n",
       "  'cause',\n",
       "  'decreasing',\n",
       "  'maintainability',\n",
       "  'client',\n",
       "  'service'],\n",
       " ['system',\n",
       "  'shall',\n",
       "  'provide',\n",
       "  'access',\n",
       "  'anonymous',\n",
       "  'users',\n",
       "  'unrestricted',\n",
       "  'functions'],\n",
       " ['system', 'shall', 'provide', 'privacy', 'users'],\n",
       " ['response', 'time', 'system', 'high'],\n",
       " ['capacity', 'system', 'high'],\n",
       " ['increasing',\n",
       "  'capacity',\n",
       "  'users',\n",
       "  'cause',\n",
       "  'decreasing',\n",
       "  'system',\n",
       "  'response',\n",
       "  'time']]"
      ]
     },
     "execution_count": 7,
     "metadata": {},
     "output_type": "execute_result"
    }
   ],
   "source": [
    "stopwords = nltk.corpus.stopwords.words('english')\n",
    "# news_words = [w for w in brown.words(categories=['news']) if w.isalpha() and w not in stopwords]\n",
    "# new_data = [for sent.lower().split(\" \")  for sent in data]\n",
    "new_data = []\n",
    "\n",
    "for sent in data:\n",
    "    temp = []\n",
    "    for word in sent.lower().split(' '):\n",
    "        if word not in stopwords:\n",
    "            temp.append(word)\n",
    "        \n",
    "    new_data.append(temp)\n",
    "    \n",
    "new_data"
   ]
  },
  {
   "cell_type": "code",
   "execution_count": 8,
   "id": "painted-glossary",
   "metadata": {},
   "outputs": [],
   "source": [
    "def get_features(new_data):\n",
    "    X = []\n",
    "    for sent in new_data:\n",
    "        res = np.zeros(word2vec['word'].shape)\n",
    "        for word in sent:\n",
    "            res += word2vec[word]\n",
    "        X.append(res)\n",
    "\n",
    "    X = np.array(X)\n",
    "    return X\n",
    "\n",
    "X = get_features(new_data)"
   ]
  },
  {
   "cell_type": "code",
   "execution_count": 9,
   "id": "another-bedroom",
   "metadata": {},
   "outputs": [
    {
     "data": {
      "text/plain": [
       "(11, 200)"
      ]
     },
     "execution_count": 9,
     "metadata": {},
     "output_type": "execute_result"
    }
   ],
   "source": [
    "X.shape"
   ]
  },
  {
   "cell_type": "code",
   "execution_count": 10,
   "id": "interstate-finder",
   "metadata": {},
   "outputs": [],
   "source": [
    "result = []\n",
    "for sent1 in X:\n",
    "    res = []\n",
    "    for sent2 in X:\n",
    "        val = np.average(np.abs(sent1 - sent2))\n",
    "        res.append(round(val, 4))\n",
    "    result.append(res)\n",
    "    \n",
    "result = np.array(result)"
   ]
  },
  {
   "cell_type": "code",
   "execution_count": 11,
   "id": "medical-roman",
   "metadata": {},
   "outputs": [
    {
     "data": {
      "text/html": [
       "<div>\n",
       "<style scoped>\n",
       "    .dataframe tbody tr th:only-of-type {\n",
       "        vertical-align: middle;\n",
       "    }\n",
       "\n",
       "    .dataframe tbody tr th {\n",
       "        vertical-align: top;\n",
       "    }\n",
       "\n",
       "    .dataframe thead th {\n",
       "        text-align: right;\n",
       "    }\n",
       "</style>\n",
       "<table border=\"1\" class=\"dataframe\">\n",
       "  <thead>\n",
       "    <tr style=\"text-align: right;\">\n",
       "      <th></th>\n",
       "      <th>0</th>\n",
       "      <th>1</th>\n",
       "      <th>2</th>\n",
       "      <th>3</th>\n",
       "      <th>4</th>\n",
       "      <th>5</th>\n",
       "      <th>6</th>\n",
       "      <th>7</th>\n",
       "      <th>8</th>\n",
       "      <th>9</th>\n",
       "      <th>10</th>\n",
       "    </tr>\n",
       "  </thead>\n",
       "  <tbody>\n",
       "    <tr>\n",
       "      <th>0</th>\n",
       "      <td>0.0000</td>\n",
       "      <td>0.4646</td>\n",
       "      <td>0.8690</td>\n",
       "      <td>0.8091</td>\n",
       "      <td>1.0930</td>\n",
       "      <td>1.2087</td>\n",
       "      <td>1.2750</td>\n",
       "      <td>0.8035</td>\n",
       "      <td>0.7499</td>\n",
       "      <td>0.7599</td>\n",
       "      <td>1.1564</td>\n",
       "    </tr>\n",
       "    <tr>\n",
       "      <th>1</th>\n",
       "      <td>0.4646</td>\n",
       "      <td>0.0000</td>\n",
       "      <td>0.8951</td>\n",
       "      <td>0.8891</td>\n",
       "      <td>1.1289</td>\n",
       "      <td>1.3640</td>\n",
       "      <td>1.3846</td>\n",
       "      <td>0.9041</td>\n",
       "      <td>0.7315</td>\n",
       "      <td>0.6587</td>\n",
       "      <td>1.2369</td>\n",
       "    </tr>\n",
       "    <tr>\n",
       "      <th>2</th>\n",
       "      <td>0.8690</td>\n",
       "      <td>0.8951</td>\n",
       "      <td>0.0000</td>\n",
       "      <td>0.5676</td>\n",
       "      <td>1.2803</td>\n",
       "      <td>1.2823</td>\n",
       "      <td>1.4119</td>\n",
       "      <td>1.0057</td>\n",
       "      <td>0.8954</td>\n",
       "      <td>0.8952</td>\n",
       "      <td>1.3915</td>\n",
       "    </tr>\n",
       "    <tr>\n",
       "      <th>3</th>\n",
       "      <td>0.8091</td>\n",
       "      <td>0.8891</td>\n",
       "      <td>0.5676</td>\n",
       "      <td>0.0000</td>\n",
       "      <td>1.3566</td>\n",
       "      <td>1.3091</td>\n",
       "      <td>1.3856</td>\n",
       "      <td>0.9861</td>\n",
       "      <td>0.8818</td>\n",
       "      <td>0.8919</td>\n",
       "      <td>1.4264</td>\n",
       "    </tr>\n",
       "    <tr>\n",
       "      <th>4</th>\n",
       "      <td>1.0930</td>\n",
       "      <td>1.1289</td>\n",
       "      <td>1.2803</td>\n",
       "      <td>1.3566</td>\n",
       "      <td>0.0000</td>\n",
       "      <td>1.0835</td>\n",
       "      <td>1.4023</td>\n",
       "      <td>1.1962</td>\n",
       "      <td>1.1900</td>\n",
       "      <td>1.1890</td>\n",
       "      <td>0.8908</td>\n",
       "    </tr>\n",
       "    <tr>\n",
       "      <th>5</th>\n",
       "      <td>1.2087</td>\n",
       "      <td>1.3640</td>\n",
       "      <td>1.2823</td>\n",
       "      <td>1.3091</td>\n",
       "      <td>1.0835</td>\n",
       "      <td>0.0000</td>\n",
       "      <td>1.4194</td>\n",
       "      <td>1.2392</td>\n",
       "      <td>1.3472</td>\n",
       "      <td>1.3719</td>\n",
       "      <td>1.0675</td>\n",
       "    </tr>\n",
       "    <tr>\n",
       "      <th>6</th>\n",
       "      <td>1.2750</td>\n",
       "      <td>1.3846</td>\n",
       "      <td>1.4119</td>\n",
       "      <td>1.3856</td>\n",
       "      <td>1.4023</td>\n",
       "      <td>1.4194</td>\n",
       "      <td>0.0000</td>\n",
       "      <td>0.8010</td>\n",
       "      <td>1.3384</td>\n",
       "      <td>1.3833</td>\n",
       "      <td>1.2937</td>\n",
       "    </tr>\n",
       "    <tr>\n",
       "      <th>7</th>\n",
       "      <td>0.8035</td>\n",
       "      <td>0.9041</td>\n",
       "      <td>1.0057</td>\n",
       "      <td>0.9861</td>\n",
       "      <td>1.1962</td>\n",
       "      <td>1.2392</td>\n",
       "      <td>0.8010</td>\n",
       "      <td>0.0000</td>\n",
       "      <td>0.9251</td>\n",
       "      <td>0.9453</td>\n",
       "      <td>1.1541</td>\n",
       "    </tr>\n",
       "    <tr>\n",
       "      <th>8</th>\n",
       "      <td>0.7499</td>\n",
       "      <td>0.7315</td>\n",
       "      <td>0.8954</td>\n",
       "      <td>0.8818</td>\n",
       "      <td>1.1900</td>\n",
       "      <td>1.3472</td>\n",
       "      <td>1.3384</td>\n",
       "      <td>0.9251</td>\n",
       "      <td>0.0000</td>\n",
       "      <td>0.4522</td>\n",
       "      <td>1.0614</td>\n",
       "    </tr>\n",
       "    <tr>\n",
       "      <th>9</th>\n",
       "      <td>0.7599</td>\n",
       "      <td>0.6587</td>\n",
       "      <td>0.8952</td>\n",
       "      <td>0.8919</td>\n",
       "      <td>1.1890</td>\n",
       "      <td>1.3719</td>\n",
       "      <td>1.3833</td>\n",
       "      <td>0.9453</td>\n",
       "      <td>0.4522</td>\n",
       "      <td>0.0000</td>\n",
       "      <td>1.0941</td>\n",
       "    </tr>\n",
       "    <tr>\n",
       "      <th>10</th>\n",
       "      <td>1.1564</td>\n",
       "      <td>1.2369</td>\n",
       "      <td>1.3915</td>\n",
       "      <td>1.4264</td>\n",
       "      <td>0.8908</td>\n",
       "      <td>1.0675</td>\n",
       "      <td>1.2937</td>\n",
       "      <td>1.1541</td>\n",
       "      <td>1.0614</td>\n",
       "      <td>1.0941</td>\n",
       "      <td>0.0000</td>\n",
       "    </tr>\n",
       "  </tbody>\n",
       "</table>\n",
       "</div>"
      ],
      "text/plain": [
       "        0       1       2       3       4       5       6       7       8   \\\n",
       "0   0.0000  0.4646  0.8690  0.8091  1.0930  1.2087  1.2750  0.8035  0.7499   \n",
       "1   0.4646  0.0000  0.8951  0.8891  1.1289  1.3640  1.3846  0.9041  0.7315   \n",
       "2   0.8690  0.8951  0.0000  0.5676  1.2803  1.2823  1.4119  1.0057  0.8954   \n",
       "3   0.8091  0.8891  0.5676  0.0000  1.3566  1.3091  1.3856  0.9861  0.8818   \n",
       "4   1.0930  1.1289  1.2803  1.3566  0.0000  1.0835  1.4023  1.1962  1.1900   \n",
       "5   1.2087  1.3640  1.2823  1.3091  1.0835  0.0000  1.4194  1.2392  1.3472   \n",
       "6   1.2750  1.3846  1.4119  1.3856  1.4023  1.4194  0.0000  0.8010  1.3384   \n",
       "7   0.8035  0.9041  1.0057  0.9861  1.1962  1.2392  0.8010  0.0000  0.9251   \n",
       "8   0.7499  0.7315  0.8954  0.8818  1.1900  1.3472  1.3384  0.9251  0.0000   \n",
       "9   0.7599  0.6587  0.8952  0.8919  1.1890  1.3719  1.3833  0.9453  0.4522   \n",
       "10  1.1564  1.2369  1.3915  1.4264  0.8908  1.0675  1.2937  1.1541  1.0614   \n",
       "\n",
       "        9       10  \n",
       "0   0.7599  1.1564  \n",
       "1   0.6587  1.2369  \n",
       "2   0.8952  1.3915  \n",
       "3   0.8919  1.4264  \n",
       "4   1.1890  0.8908  \n",
       "5   1.3719  1.0675  \n",
       "6   1.3833  1.2937  \n",
       "7   0.9453  1.1541  \n",
       "8   0.4522  1.0614  \n",
       "9   0.0000  1.0941  \n",
       "10  1.0941  0.0000  "
      ]
     },
     "execution_count": 11,
     "metadata": {},
     "output_type": "execute_result"
    }
   ],
   "source": [
    "df = pd.DataFrame(result)\n",
    "df.head(11)"
   ]
  },
  {
   "cell_type": "code",
   "execution_count": 12,
   "id": "weighted-garden",
   "metadata": {},
   "outputs": [
    {
     "data": {
      "image/png": "[encoded data removed]",
      "text/plain": [
       "<Figure size 432x288 with 1 Axes>"
      ]
     },
     "metadata": {
      "needs_background": "light"
     },
     "output_type": "display_data"
    }
   ],
   "source": [
    "plt.imshow(result)\n",
    "plt.show()"
   ]
  },
  {
   "cell_type": "code",
   "execution_count": 13,
   "id": "joined-transcription",
   "metadata": {},
   "outputs": [],
   "source": [
    "clus = []\n",
    "for i in range(len(result)):\n",
    "    min_elm = 100000000000\n",
    "    idx_i = -1\n",
    "    idx_j = -1\n",
    "    \n",
    "    for j in range(len(result)):    \n",
    "        if(min_elm > result[i, j] and result[i, j] != 0):\n",
    "            min_elm = result[i, j]\n",
    "            idx_i = i\n",
    "            idx_j = j\n",
    "    \n",
    "    clus.append((min(idx_i, idx_j), max(idx_i, idx_j)))\n",
    "    \n",
    "clus = set(clus)"
   ]
  },
  {
   "cell_type": "code",
   "execution_count": 14,
   "id": "marked-bandwidth",
   "metadata": {},
   "outputs": [],
   "source": [
    "def get_antonyms(word):\n",
    "    ant = []\n",
    "    for s in wordnet.synsets(word):\n",
    "        for l in s.lemmas():\n",
    "            if l.antonyms():\n",
    "                ant.append(l.antonyms()[0].name())\n",
    "                    \n",
    "    return list(set(ant))"
   ]
  },
  {
   "cell_type": "code",
   "execution_count": 15,
   "id": "ecological-dealer",
   "metadata": {},
   "outputs": [
    {
     "data": {
      "text/plain": [
       "['complex', 'compound']"
      ]
     },
     "execution_count": 15,
     "metadata": {},
     "output_type": "execute_result"
    }
   ],
   "source": [
    "get_antonyms('simple')"
   ]
  },
  {
   "cell_type": "code",
   "execution_count": 16,
   "id": "continuing-salvation",
   "metadata": {},
   "outputs": [],
   "source": [
    "conflicts = []\n",
    "\n",
    "for item in clus:\n",
    "    for w1 in data[item[0]].split(' '):\n",
    "        for w2 in data[item[1]].split(' '):\n",
    "            if w2 in get_antonyms(w1):\n",
    "                conflicts.append(item)"
   ]
  },
  {
   "cell_type": "code",
   "execution_count": 17,
   "id": "stupid-floating",
   "metadata": {},
   "outputs": [
    {
     "name": "stdout",
     "output_type": "stream",
     "text": [
      "Increasing the complexity of the product recommender should not cause a decreasing download speed\n",
      "Increasing the capacity of users should not cause decreasing system response time\n",
      "\n",
      "Increasing the complexity of client service should not cause decreasing maintainability of client service\n",
      "Increasing the capacity of users should not cause decreasing system response time\n",
      "\n"
     ]
    }
   ],
   "source": [
    "conflicts\n",
    "\n",
    "for item in conflicts:\n",
    "    print(data[item[0]])\n",
    "    print(data[item[1]])\n",
    "    print()"
   ]
  },
  {
   "cell_type": "code",
   "execution_count": 18,
   "id": "juvenile-manner",
   "metadata": {},
   "outputs": [
    {
     "name": "stdout",
     "output_type": "stream",
     "text": [
      "The complexity of the client system should be simple\n",
      "The complexity of the system should be sophisticated\n",
      "\n",
      "Increasing the complexity of the product recommender should not cause a decreasing download speed\n",
      "Increasing the capacity of users should not cause decreasing system response time\n",
      "\n",
      "The color of customer service should be more brightened\n",
      "The color of the client service should be dark\n",
      "\n",
      "The system shall provide access to anonymous users for unrestricted functions\n",
      "The system shall provide privacy to users\n",
      "\n",
      "Increasing the complexity of client service should not cause decreasing maintainability of client service\n",
      "Increasing the capacity of users should not cause decreasing system response time\n",
      "\n",
      "The response time of the system should be high\n",
      "The capacity of the system should be high\n",
      "\n"
     ]
    }
   ],
   "source": [
    "for item in clus:\n",
    "    print(data[item[0]])\n",
    "    print(data[item[1]])\n",
    "    print()"
   ]
  },
  {
   "cell_type": "code",
   "execution_count": 19,
   "id": "valued-google",
   "metadata": {},
   "outputs": [],
   "source": [
    "SENT_SIZE = 40\n",
    "\n",
    "def convert_sent_to_emb(X, word_to_vec):\n",
    "    data = np.zeros((len(X), SENT_SIZE, len(word_to_vec['word'])))\n",
    "    \n",
    "    for i, sent in enumerate(X):\n",
    "        for j, word in enumerate(sent.split()):\n",
    "            try:\n",
    "                data[i, j, :] = word_to_vec[word]\n",
    "            except:\n",
    "                pass\n",
    "            \n",
    "    return data"
   ]
  },
  {
   "cell_type": "code",
   "execution_count": 20,
   "id": "polar-london",
   "metadata": {},
   "outputs": [
    {
     "data": {
      "text/html": [
       "<div>\n",
       "<style scoped>\n",
       "    .dataframe tbody tr th:only-of-type {\n",
       "        vertical-align: middle;\n",
       "    }\n",
       "\n",
       "    .dataframe tbody tr th {\n",
       "        vertical-align: top;\n",
       "    }\n",
       "\n",
       "    .dataframe thead th {\n",
       "        text-align: right;\n",
       "    }\n",
       "</style>\n",
       "<table border=\"1\" class=\"dataframe\">\n",
       "  <thead>\n",
       "    <tr style=\"text-align: right;\">\n",
       "      <th></th>\n",
       "      <th>Root</th>\n",
       "      <th>Antonym</th>\n",
       "    </tr>\n",
       "  </thead>\n",
       "  <tbody>\n",
       "    <tr>\n",
       "      <th>0</th>\n",
       "      <td>elongated</td>\n",
       "      <td>[stunted]</td>\n",
       "    </tr>\n",
       "    <tr>\n",
       "      <th>1</th>\n",
       "      <td>thinskinned</td>\n",
       "      <td>[thickskinned]</td>\n",
       "    </tr>\n",
       "    <tr>\n",
       "      <th>2</th>\n",
       "      <td>tactful</td>\n",
       "      <td>[tactless]</td>\n",
       "    </tr>\n",
       "    <tr>\n",
       "      <th>3</th>\n",
       "      <td>orphaned</td>\n",
       "      <td>[privileged]</td>\n",
       "    </tr>\n",
       "    <tr>\n",
       "      <th>4</th>\n",
       "      <td>laconic</td>\n",
       "      <td>[glib,, garrulous,, talkative,, gossipy,, chat...</td>\n",
       "    </tr>\n",
       "  </tbody>\n",
       "</table>\n",
       "</div>"
      ],
      "text/plain": [
       "          Root                                            Antonym\n",
       "0    elongated                                          [stunted]\n",
       "1  thinskinned                                     [thickskinned]\n",
       "2      tactful                                         [tactless]\n",
       "3     orphaned                                       [privileged]\n",
       "4      laconic  [glib,, garrulous,, talkative,, gossipy,, chat..."
      ]
     },
     "execution_count": 20,
     "metadata": {},
     "output_type": "execute_result"
    }
   ],
   "source": [
    "ant = pd.read_csv('data/antonyms.txt', delimiter = '\\t')\n",
    "ant['Antonym'] = ant['Antonym'].str.split()\n",
    "\n",
    "words = ant['Root'].values\n",
    "ant_list = ant['Antonym'].values\n",
    "\n",
    "ant_dict = {}\n",
    "for word, ant_l in zip(words, ant_list):\n",
    "    ant_dict[word] = ant_l\n",
    "\n",
    "ant.head()"
   ]
  },
  {
   "cell_type": "code",
   "execution_count": 21,
   "id": "fatty-float",
   "metadata": {},
   "outputs": [],
   "source": [
    "def sent_to_list(sent1, sent2):\n",
    "    l1 = sent1.lower().split()\n",
    "    l2 = sent2.lower().split()\n",
    "    return l1, l2\n",
    "\n",
    "def jaccard_similarity(list1, list2):\n",
    "    intersection = len(list(set(list1).intersection(list2)))\n",
    "    union = (len(set(list1)) + len(set(list2))) - intersection\n",
    "    return float(intersection) / union\n",
    "\n",
    "def isNegation(list1, list2, negation_list):\n",
    "    for word in list1:\n",
    "        if word in negation_list:\n",
    "            return True\n",
    "    \n",
    "    for word in list2:\n",
    "        if word in negation_list:\n",
    "            return True\n",
    "        \n",
    "    return False\n",
    "\n",
    "def get_antonyms(word, ant_dict):\n",
    "    ant = []\n",
    "    for s in wordnet.synsets(word):\n",
    "        for l in s.lemmas():\n",
    "            if l.antonyms():\n",
    "                ant.append(l.antonyms()[0].name())\n",
    "                \n",
    "    ans = list(set(ant))\n",
    "    if word in ant_dict:\n",
    "        ans.extend(ant_dict[word])\n",
    "        \n",
    "    return ans\n",
    "\n",
    "def isAntonym(sent1, sent2):\n",
    "    for w1 in sent1.split(' '):\n",
    "        for w2 in sent2.split(' '):\n",
    "            if w2 in get_antonyms(w1, ant_dict):\n",
    "                return True\n",
    "    return False\n",
    "\n",
    "negation_list = ['No', 'Not','None','No one','Nobody','Nothing','Neither','Nowhere','Never','Hardly','Scarcely','Barely','Doesn’t','Isn’t','Wasn’t','Shouldn’t','Wouldn’t','Couldn’t','Won’t','Can’t','Don’t']\n",
    "for i in range(len(negation_list)):\n",
    "    negation_list[i] = negation_list[i].lower().replace(\"’\", \"\")"
   ]
  },
  {
   "cell_type": "code",
   "execution_count": 22,
   "id": "stylish-poetry",
   "metadata": {},
   "outputs": [
    {
     "name": "stdout",
     "output_type": "stream",
     "text": [
      "True\n",
      "False\n"
     ]
    }
   ],
   "source": [
    "print(isAntonym('Increasing the complexity of the product recommender should not cause a decreasing download speed', 'Increasing the capacity of users should not cause decreasing system response time'))\n",
    "print(isAntonym('The complexity of the client system should be simple', 'The complexity of the system should be sophisticated'))\n"
   ]
  },
  {
   "cell_type": "code",
   "execution_count": 23,
   "id": "macro-elephant",
   "metadata": {},
   "outputs": [],
   "source": [
    "cd_model = load_model('contradiction_detection_model.h5')"
   ]
  },
  {
   "cell_type": "code",
   "execution_count": 62,
   "id": "primary-softball",
   "metadata": {},
   "outputs": [
    {
     "name": "stdout",
     "output_type": "stream",
     "text": [
      "The complexity of the client system should be simple\n",
      "The complexity of the system should be sophisticated\n",
      "[[0.14930615]]\n",
      "\n",
      "Increasing the complexity of the product recommender should not cause a decreasing download speed\n",
      "Increasing the capacity of users should not cause decreasing system response time\n",
      "[[0.01108095]]\n",
      "\n",
      "The color of customer service should be more brightened\n",
      "The color of the client service should be dark\n",
      "[[0.21863511]]\n",
      "\n",
      "The system shall provide access to anonymous users for unrestricted functions\n",
      "The system shall provide privacy to users\n",
      "[[0.31115466]]\n",
      "\n",
      "Increasing the complexity of client service should not cause decreasing maintainability of client service\n",
      "Increasing the capacity of users should not cause decreasing system response time\n",
      "[[0.00928357]]\n",
      "\n",
      "The response time of the system should be high\n",
      "The capacity of the system should be high\n",
      "[[0.16124633]]\n",
      "\n"
     ]
    }
   ],
   "source": [
    "for item in clus:\n",
    "    sent1 = data[item[0]]\n",
    "    sent2 = data[item[1]]\n",
    "    \n",
    "    print(sent1)\n",
    "    print(sent2)\n",
    "    \n",
    "    l1, l2 = sent_to_list(sent1, sent2)\n",
    "    iou = jaccard_similarity(l1, l2)\n",
    "    neg = isNegation(l1, l2, negation_list)\n",
    "    isAnt = isAntonym(sent1, sent2)\n",
    "    \n",
    "    s1 = convert_sent_to_emb([sent1.lower()], word2vec)\n",
    "    s2 = convert_sent_to_emb([sent2.lower()], word2vec)\n",
    "    \n",
    "    pred = cd_model.predict([s1, s2, np.array([iou, neg, isAnt], dtype = float).reshape(1, 3)])\n",
    "    print(pred)\n",
    "    print()"
   ]
  },
  {
   "cell_type": "code",
   "execution_count": null,
   "id": "executed-paintball",
   "metadata": {},
   "outputs": [],
   "source": []
  }
 ],
 "metadata": {
  "kernelspec": {
   "display_name": "Python 3",
   "language": "python",
   "name": "python3"
  },
  "language_info": {
   "codemirror_mode": {
    "name": "ipython",
    "version": 3
   },
   "file_extension": ".py",
   "mimetype": "text/x-python",
   "name": "python",
   "nbconvert_exporter": "python",
   "pygments_lexer": "ipython3",
   "version": "3.9.1"
  }
 },
 "nbformat": 4,
 "nbformat_minor": 5
}
